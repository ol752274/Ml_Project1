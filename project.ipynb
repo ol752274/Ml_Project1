{
 "cells": [
  {
   "cell_type": "code",
   "execution_count": null,
   "metadata": {},
   "outputs": [
    {
     "name": "stdout",
     "output_type": "stream",
     "text": [
      "We successfully saved: 28\n",
      "We successfully saved: 29\n",
      "We successfully saved: 30\n",
      "We successfully saved: 31\n",
      "We successfully saved: 32\n",
      "We successfully saved: 33\n",
      "We successfully saved: 34\n",
      "We successfully saved: 35\n",
      "We successfully saved: 36\n",
      "We successfully saved: 37\n",
      "We successfully saved: 38\n",
      "We successfully saved: 39\n",
      "We successfully saved: 40\n",
      "We successfully saved: 41\n",
      "We successfully saved: 42\n",
      "We successfully saved: 43\n",
      "We successfully saved: 44\n",
      "We successfully saved: 45\n",
      "We successfully saved: 46\n",
      "We successfully saved: 47\n",
      "We successfully saved: 48\n",
      "We successfully saved: 49\n",
      "We successfully saved: 50\n",
      "We successfully saved: 51\n",
      "We successfully saved: 52\n",
      "We successfully saved: 53\n",
      "We successfully saved: 54\n",
      "We successfully saved: 55\n",
      "We successfully saved: 56\n",
      "We successfully saved: 57\n",
      "We successfully saved: 58\n",
      "We successfully saved: 59\n",
      "We successfully saved: 60\n",
      "We successfully saved: 61\n",
      "We successfully saved: 62\n",
      "We successfully saved: 63\n",
      "We successfully saved: 64\n"
     ]
    },
    {
     "ename": "KeyboardInterrupt",
     "evalue": "",
     "output_type": "error",
     "traceback": [
      "\u001b[1;31m---------------------------------------------------------------------------\u001b[0m",
      "\u001b[1;31mKeyboardInterrupt\u001b[0m                         Traceback (most recent call last)",
      "Cell \u001b[1;32mIn[7], line 65\u001b[0m\n\u001b[0;32m     62\u001b[0m root\u001b[38;5;241m.\u001b[39mafter(\u001b[38;5;241m8000\u001b[39m, capture_images)\n\u001b[0;32m     64\u001b[0m \u001b[38;5;66;03m# Run the tkinter main loop\u001b[39;00m\n\u001b[1;32m---> 65\u001b[0m \u001b[43mroot\u001b[49m\u001b[38;5;241;43m.\u001b[39;49m\u001b[43mmainloop\u001b[49m\u001b[43m(\u001b[49m\u001b[43m)\u001b[49m\n",
      "File \u001b[1;32mc:\\Users\\Tharun Kumar\\AppData\\Local\\Programs\\Python\\Python311\\Lib\\tkinter\\__init__.py:1485\u001b[0m, in \u001b[0;36mMisc.mainloop\u001b[1;34m(self, n)\u001b[0m\n\u001b[0;32m   1483\u001b[0m \u001b[38;5;28;01mdef\u001b[39;00m \u001b[38;5;21mmainloop\u001b[39m(\u001b[38;5;28mself\u001b[39m, n\u001b[38;5;241m=\u001b[39m\u001b[38;5;241m0\u001b[39m):\n\u001b[0;32m   1484\u001b[0m \u001b[38;5;250m    \u001b[39m\u001b[38;5;124;03m\"\"\"Call the mainloop of Tk.\"\"\"\u001b[39;00m\n\u001b[1;32m-> 1485\u001b[0m     \u001b[38;5;28;43mself\u001b[39;49m\u001b[38;5;241;43m.\u001b[39;49m\u001b[43mtk\u001b[49m\u001b[38;5;241;43m.\u001b[39;49m\u001b[43mmainloop\u001b[49m\u001b[43m(\u001b[49m\u001b[43mn\u001b[49m\u001b[43m)\u001b[49m\n",
      "File \u001b[1;32mc:\\Users\\Tharun Kumar\\AppData\\Local\\Programs\\Python\\Python311\\Lib\\tkinter\\__init__.py:1943\u001b[0m, in \u001b[0;36mCallWrapper.__call__\u001b[1;34m(self, *args)\u001b[0m\n\u001b[0;32m   1940\u001b[0m     \u001b[38;5;28mself\u001b[39m\u001b[38;5;241m.\u001b[39msubst \u001b[38;5;241m=\u001b[39m subst\n\u001b[0;32m   1941\u001b[0m     \u001b[38;5;28mself\u001b[39m\u001b[38;5;241m.\u001b[39mwidget \u001b[38;5;241m=\u001b[39m widget\n\u001b[1;32m-> 1943\u001b[0m \u001b[38;5;28;01mdef\u001b[39;00m \u001b[38;5;21m__call__\u001b[39m(\u001b[38;5;28mself\u001b[39m, \u001b[38;5;241m*\u001b[39margs):\n\u001b[0;32m   1944\u001b[0m \u001b[38;5;250m    \u001b[39m\u001b[38;5;124;03m\"\"\"Apply first function SUBST to arguments, than FUNC.\"\"\"\u001b[39;00m\n\u001b[0;32m   1945\u001b[0m     \u001b[38;5;28;01mtry\u001b[39;00m:\n",
      "\u001b[1;31mKeyboardInterrupt\u001b[0m: "
     ]
    }
   ],
   "source": [
    "import pyscreenshot as ImageGrab\n",
    "import time as time\n",
    "import tkinter as tk\n",
    "from PIL import ImageGrab\n",
    "import os\n",
    "\n",
    "images_folder = \"captured_images/3/\"\n",
    "if not os.path.exists(images_folder):\n",
    "    os.makedirs(images_folder)\n",
    "\n",
    "root = tk.Tk()\n",
    "root.title(\"Draw and Capture\")\n",
    "\n",
    "\n",
    "canvas = tk.Canvas(root, width=400, height=400, bg='white')\n",
    "canvas.pack()\n",
    "\n",
    "last_x, last_y = None, None\n",
    "\n",
    "def start_draw(event):\n",
    "    global last_x, last_y\n",
    "    last_x, last_y = event.x, event.y\n",
    "\n",
    "def draw(event):\n",
    "    global last_x, last_y\n",
    "    canvas.create_line((last_x, last_y, event.x, event.y), fill='black', width=5)\n",
    "    last_x, last_y = event.x, event.y\n",
    "\n",
    "def clear_canvas():\n",
    "    canvas.delete(\"all\")\n",
    "\n",
    "canvas.bind(\"<Button-1>\", start_draw)\n",
    "canvas.bind(\"<B1-Motion>\", draw)\n",
    "\n",
    "clear_button = tk.Button(root, text=\"Clear\", command=clear_canvas)\n",
    "clear_button.pack()\n",
    "\n",
    "capture_count =28\n",
    "def capture_images():\n",
    "    global capture_count\n",
    "    if capture_count < 100:\n",
    "        x = root.winfo_rootx() + canvas.winfo_x()\n",
    "        y = root.winfo_rooty() + canvas.winfo_y()\n",
    "        x1 = x + canvas.winfo_width()\n",
    "        y1 = y + canvas.winfo_height()\n",
    "        im = ImageGrab.grab(bbox=(x, y, x1, y1))\n",
    "        im.save(f\"{images_folder}image_{capture_count}.png\")\n",
    "        print(f\"We successfully saved: {capture_count}\")\n",
    "        capture_count=capture_count+1\n",
    "        root.after(8000, capture_images)\n",
    "\n",
    "root.after(8000, capture_images)\n",
    "root.mainloop()"
   ]
  },
  {
   "cell_type": "code",
   "execution_count": null,
   "metadata": {},
   "outputs": [
    {
     "name": "stdout",
     "output_type": "stream",
     "text": [
      "Cropping completed for all images.\n"
     ]
    }
   ],
   "source": [
    "import os\n",
    "from PIL import Image\n",
    "\n",
    "input_folder = 'captured_images/33/'\n",
    "output_folder = 'captured_images/33/'\n",
    "\n",
    "os.makedirs(output_folder, exist_ok=True)\n",
    "\n",
    "target_width = 336\n",
    "target_height = 279\n",
    "\n",
    "def crop_to_target_size(image, target_width, target_height):\n",
    "    width, height = image.size\n",
    "    \n",
    "    if width >= target_width and height >= target_height:\n",
    "        left = (width - target_width) // 2\n",
    "        upper = (height - target_height) // 2\n",
    "        right = left + target_width\n",
    "        lower = upper + target_height\n",
    "\n",
    "        return image.crop((left, upper, right, lower))\n",
    "    else:\n",
    "        print(f\"Image {image.filename} is too small for the target size.\")\n",
    "        return image\n",
    "\n",
    "for filename in os.listdir(input_folder):\n",
    "    if filename.endswith(('.png', '.jpg', '.jpeg')):\n",
    "        image_path = os.path.join(input_folder, filename)\n",
    "\n",
    "        image = Image.open(image_path)\n",
    "\n",
    "        cropped_image = crop_to_target_size(image, target_width, target_height)\n",
    "\n",
    "        output_path = os.path.join(output_folder, filename)\n",
    "        cropped_image.save(output_path)\n",
    "\n",
    "        print(f\"Cropped and saved {filename} to {output_folder}\")\n",
    "\n",
    "print(\"Cropping completed for all images.\")\n"
   ]
  },
  {
   "cell_type": "code",
   "execution_count": null,
   "metadata": {},
   "outputs": [
    {
     "name": "stdout",
     "output_type": "stream",
     "text": [
      "Dataset creation complete!\n"
     ]
    }
   ],
   "source": [
    "import cv2\n",
    "import csv\n",
    "import glob\n",
    "\n",
    "header = [\"label\"] + [f\"pixel{i}\" for i in range(28 * 28)]\n",
    "\n",
    "with open('dataset.csv', 'w', newline='') as f:\n",
    "    writer = csv.writer(f)\n",
    "    writer.writerow(header)\n",
    "    \n",
    "    for label in range(10):\n",
    "        dir_list = glob.glob(f\"captured_images/{label}/*.png\") \n",
    "        \n",
    "        for img_path in dir_list:\n",
    "            try:\n",
    "                im = cv2.imread(img_path)\n",
    "\n",
    "                if im is None:\n",
    "                    print(f\"Skipping {img_path}: Unable to read the image.\")\n",
    "                    continue\n",
    "\n",
    "                im_gray = cv2.cvtColor(im, cv2.COLOR_BGR2GRAY)\n",
    "                \n",
    "                im_gray = cv2.GaussianBlur(im_gray, (15, 15), 0)\n",
    "                \n",
    "                roi = cv2.resize(im_gray, (28, 28), interpolation=cv2.INTER_AREA)\n",
    "                _, roi = cv2.threshold(roi, 100, 255, cv2.THRESH_BINARY)\n",
    "\n",
    "                data = [label] + [1 if pixel > 0 else 0 for pixel in roi.flatten()]\n",
    "\n",
    "                writer.writerow(data)\n",
    "            \n",
    "            except Exception as e:\n",
    "                print(f\"Error processing image {img_path}: {e}\")\n",
    "\n",
    "print(\"Dataset creation complete!\")\n"
   ]
  },
  {
   "cell_type": "code",
   "execution_count": null,
   "metadata": {},
   "outputs": [
    {
     "name": "stdout",
     "output_type": "stream",
     "text": [
      "      label  pixel0  pixel1  pixel2  pixel3  pixel4  pixel5  pixel6  pixel7  \\\n",
      "449       4       0       0       0       0       0       0       0       0   \n",
      "172       1       0       0       0       0       0       0       0       0   \n",
      "534       5       0       0       0       0       0       0       0       0   \n",
      "404       3       0       0       0       0       0       0       0       0   \n",
      "577       5       0       0       0       0       0       0       0       0   \n",
      "...     ...     ...     ...     ...     ...     ...     ...     ...     ...   \n",
      "265       2       0       0       0       0       0       0       0       0   \n",
      "1005      9       0       0       0       0       0       0       0       0   \n",
      "478       4       0       0       0       0       0       0       0       0   \n",
      "646       6       0       0       0       0       0       0       0       0   \n",
      "304       3       0       0       0       0       0       0       0       0   \n",
      "\n",
      "      pixel8  ...  pixel774  pixel775  pixel776  pixel777  pixel778  pixel779  \\\n",
      "449        0  ...         0         0         0         0         0         0   \n",
      "172        0  ...         0         0         0         0         0         0   \n",
      "534        0  ...         0         0         0         0         0         0   \n",
      "404        0  ...         0         0         0         0         0         0   \n",
      "577        0  ...         0         0         0         0         0         0   \n",
      "...      ...  ...       ...       ...       ...       ...       ...       ...   \n",
      "265        0  ...         0         0         0         0         0         0   \n",
      "1005       0  ...         0         0         0         0         0         0   \n",
      "478        0  ...         0         0         0         0         0         0   \n",
      "646        0  ...         0         0         0         0         0         0   \n",
      "304        0  ...         0         0         0         0         0         0   \n",
      "\n",
      "      pixel780  pixel781  pixel782  pixel783  \n",
      "449          0         0         0         0  \n",
      "172          0         0         0         0  \n",
      "534          0         0         0         0  \n",
      "404          0         0         0         0  \n",
      "577          0         0         0         0  \n",
      "...        ...       ...       ...       ...  \n",
      "265          0         0         0         0  \n",
      "1005         0         0         0         0  \n",
      "478          0         0         0         0  \n",
      "646          0         0         0         0  \n",
      "304          0         0         0         0  \n",
      "\n",
      "[1014 rows x 785 columns]\n"
     ]
    }
   ],
   "source": [
    "import pandas as pd \n",
    "from sklearn.utils import shuffle \n",
    " \n",
    "data = pd.read_csv('dataset.csv')\n",
    "data = shuffle(data)\n",
    "print(data)"
   ]
  },
  {
   "cell_type": "code",
   "execution_count": 10,
   "metadata": {},
   "outputs": [],
   "source": [
    "X = data.drop([\"label\"],axis=1)\n",
    "Y= data[\"label\"]"
   ]
  },
  {
   "cell_type": "code",
   "execution_count": 11,
   "metadata": {},
   "outputs": [
    {
     "name": "stdout",
     "output_type": "stream",
     "text": [
      "3\n"
     ]
    },
    {
     "data": {
      "text/plain": [
       "<matplotlib.image.AxesImage at 0x28a65d328d0>"
      ]
     },
     "execution_count": 11,
     "metadata": {},
     "output_type": "execute_result"
    },
    {
     "data": {
      "image/png": "[encoded data removed]",
      "text/plain": [
       "<Figure size 640x480 with 1 Axes>"
      ]
     },
     "metadata": {},
     "output_type": "display_data"
    }
   ],
   "source": [
    "%matplotlib inline\n",
    "import matplotlib.pyplot as plt\n",
    "import cv2\n",
    "idx = 314\n",
    "img = X.loc[idx].values.reshape(28,28)\n",
    "print(Y[idx])\n",
    "plt.imshow(img)"
   ]
  },
  {
   "cell_type": "code",
   "execution_count": 12,
   "metadata": {},
   "outputs": [],
   "source": [
    "from sklearn.model_selection import train_test_split\n",
    "train_x,test_x,train_y,test_y = train_test_split(X,Y, test_size = 0.2)"
   ]
  },
  {
   "cell_type": "code",
   "execution_count": null,
   "metadata": {},
   "outputs": [],
   "source": []
  }
 ],
 "metadata": {
  "kernelspec": {
   "display_name": "Python 3",
   "language": "python",
   "name": "python3"
  },
  "language_info": {
   "codemirror_mode": {
    "name": "ipython",
    "version": 3
   },
   "file_extension": ".py",
   "mimetype": "text/x-python",
   "name": "python",
   "nbconvert_exporter": "python",
   "pygments_lexer": "ipython3",
   "version": "3.11.2"
  }
 },
 "nbformat": 4,
 "nbformat_minor": 4
}
