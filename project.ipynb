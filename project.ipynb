{
 "cells": [
  {
   "cell_type": "code",
   "execution_count": null,
   "metadata": {},
   "outputs": [
    {
     "name": "stdout",
     "output_type": "stream",
     "text": [
      "Successfully saved: image_28.png\n",
      "Successfully saved: image_29.png\n",
      "Successfully saved: image_30.png\n"
     ]
    },
    {
     "ename": "KeyboardInterrupt",
     "evalue": "",
     "output_type": "error",
     "traceback": [
      "\u001b[1;31m---------------------------------------------------------------------------\u001b[0m",
      "\u001b[1;31mKeyboardInterrupt\u001b[0m                         Traceback (most recent call last)",
      "Cell \u001b[1;32mIn[7], line 30\u001b[0m\n\u001b[0;32m     27\u001b[0m         capture_images()\n\u001b[0;32m     29\u001b[0m \u001b[38;5;66;03m# Start capturing screenshots\u001b[39;00m\n\u001b[1;32m---> 30\u001b[0m \u001b[43mcapture_images\u001b[49m\u001b[43m(\u001b[49m\u001b[43m)\u001b[49m\n",
      "Cell \u001b[1;32mIn[7], line 27\u001b[0m, in \u001b[0;36mcapture_images\u001b[1;34m()\u001b[0m\n\u001b[0;32m     25\u001b[0m \u001b[38;5;66;03m# Wait for 8 seconds before the next capture\u001b[39;00m\n\u001b[0;32m     26\u001b[0m time\u001b[38;5;241m.\u001b[39msleep(\u001b[38;5;241m8\u001b[39m)\n\u001b[1;32m---> 27\u001b[0m \u001b[43mcapture_images\u001b[49m\u001b[43m(\u001b[49m\u001b[43m)\u001b[49m\n",
      "Cell \u001b[1;32mIn[7], line 27\u001b[0m, in \u001b[0;36mcapture_images\u001b[1;34m()\u001b[0m\n\u001b[0;32m     25\u001b[0m \u001b[38;5;66;03m# Wait for 8 seconds before the next capture\u001b[39;00m\n\u001b[0;32m     26\u001b[0m time\u001b[38;5;241m.\u001b[39msleep(\u001b[38;5;241m8\u001b[39m)\n\u001b[1;32m---> 27\u001b[0m \u001b[43mcapture_images\u001b[49m\u001b[43m(\u001b[49m\u001b[43m)\u001b[49m\n",
      "Cell \u001b[1;32mIn[7], line 26\u001b[0m, in \u001b[0;36mcapture_images\u001b[1;34m()\u001b[0m\n\u001b[0;32m     23\u001b[0m capture_count \u001b[38;5;241m+\u001b[39m\u001b[38;5;241m=\u001b[39m \u001b[38;5;241m1\u001b[39m\n\u001b[0;32m     25\u001b[0m \u001b[38;5;66;03m# Wait for 8 seconds before the next capture\u001b[39;00m\n\u001b[1;32m---> 26\u001b[0m \u001b[43mtime\u001b[49m\u001b[38;5;241;43m.\u001b[39;49m\u001b[43msleep\u001b[49m\u001b[43m(\u001b[49m\u001b[38;5;241;43m8\u001b[39;49m\u001b[43m)\u001b[49m\n\u001b[0;32m     27\u001b[0m capture_images()\n",
      "\u001b[1;31mKeyboardInterrupt\u001b[0m: "
     ]
    }
   ],
   "source": [
    "import pyscreenshot as ImageGrab\n",
    "import time\n",
    "import os\n",
    "\n",
    "images_folder = \"captured_images/33/\"\n",
    "if not os.path.exists(images_folder):\n",
    "    os.makedirs(images_folder)\n",
    "\n",
    "capture_count = 28\n",
    "\n",
    "def capture_images():\n",
    "    global capture_count\n",
    "    if capture_count < 100:\n",
    "        im = ImageGrab.grab()\n",
    "\n",
    "        im.save(f\"{images_folder}image_{capture_count}.png\")\n",
    "        print(f\"Successfully saved: image_{capture_count}.png\")\n",
    "        \n",
    "        capture_count += 1\n",
    "        \n",
    "        time.sleep(8)\n",
    "        capture_images()\n",
    "\n",
    "capture_images()\n"
   ]
  },
  {
   "cell_type": "code",
   "execution_count": null,
   "metadata": {},
   "outputs": [
    {
     "name": "stdout",
     "output_type": "stream",
     "text": [
      "Cropping completed for all images.\n"
     ]
    }
   ],
   "source": [
    "import os\n",
    "from PIL import Image\n",
    "\n",
    "input_folder = 'captured_images/33/'\n",
    "output_folder = 'captured_images/33/'\n",
    "\n",
    "os.makedirs(output_folder, exist_ok=True)\n",
    "\n",
    "target_width = 336\n",
    "target_height = 279\n",
    "\n",
    "def crop_to_target_size(image, target_width, target_height):\n",
    "    width, height = image.size\n",
    "    \n",
    "    if width >= target_width and height >= target_height:\n",
    "        left = (width - target_width) // 2\n",
    "        upper = (height - target_height) // 2\n",
    "        right = left + target_width\n",
    "        lower = upper + target_height\n",
    "\n",
    "        return image.crop((left, upper, right, lower))\n",
    "    else:\n",
    "        print(f\"Image {image.filename} is too small for the target size.\")\n",
    "        return image\n",
    "\n",
    "for filename in os.listdir(input_folder):\n",
    "    if filename.endswith(('.png', '.jpg', '.jpeg')):\n",
    "        image_path = os.path.join(input_folder, filename)\n",
    "\n",
    "        image = Image.open(image_path)\n",
    "\n",
    "        cropped_image = crop_to_target_size(image, target_width, target_height)\n",
    "\n",
    "        output_path = os.path.join(output_folder, filename)\n",
    "        cropped_image.save(output_path)\n",
    "\n",
    "        print(f\"Cropped and saved {filename} to {output_folder}\")\n",
    "\n",
    "print(\"Cropping completed for all images.\")\n"
   ]
  },
  {
   "cell_type": "code",
   "execution_count": 8,
   "metadata": {},
   "outputs": [
    {
     "name": "stdout",
     "output_type": "stream",
     "text": [
      "Dataset creation complete!\n"
     ]
    }
   ],
   "source": [
    "import cv2\n",
    "import csv\n",
    "import glob\n",
    "\n",
    "header = [\"label\"] + [f\"pixel{i}\" for i in range(28 * 28)]\n",
    "\n",
    "with open('dataset.csv', 'w', newline='') as f:\n",
    "    writer = csv.writer(f)\n",
    "    writer.writerow(header)\n",
    "    \n",
    "    for label in range(10):\n",
    "        dir_list = glob.glob(f\"captured_images/{label}/*.png\") \n",
    "        \n",
    "        for img_path in dir_list:\n",
    "            try:\n",
    "                im = cv2.imread(img_path)\n",
    "\n",
    "                if im is None:\n",
    "                    print(f\"Skipping {img_path}: Unable to read the image.\")\n",
    "                    continue\n",
    "\n",
    "                im_gray = cv2.cvtColor(im, cv2.COLOR_BGR2GRAY)\n",
    "                \n",
    "                im_gray = cv2.GaussianBlur(im_gray, (15, 15), 0)\n",
    "                \n",
    "                roi = cv2.resize(im_gray, (28, 28), interpolation=cv2.INTER_AREA)\n",
    "                _, roi = cv2.threshold(roi, 100, 255, cv2.THRESH_BINARY)\n",
    "\n",
    "                data = [label] + [1 if pixel > 0 else 0 for pixel in roi.flatten()]\n",
    "\n",
    "                writer.writerow(data)\n",
    "            \n",
    "            except Exception as e:\n",
    "                print(f\"Error processing image {img_path}: {e}\")\n",
    "\n",
    "print(\"Dataset creation complete!\")\n"
   ]
  },
  {
   "cell_type": "code",
   "execution_count": 11,
   "metadata": {},
   "outputs": [
    {
     "name": "stdout",
     "output_type": "stream",
     "text": [
      "     label  pixel0  pixel1  pixel2  pixel3  pixel4  pixel5  pixel6  pixel7  \\\n",
      "866      8       0       0       0       0       0       0       0       0   \n",
      "150      1       0       0       0       0       0       0       0       0   \n",
      "930      9       0       0       0       0       0       0       0       0   \n",
      "35       0       0       0       0       0       0       0       0       0   \n",
      "326      3       0       0       0       0       0       0       0       0   \n",
      "..     ...     ...     ...     ...     ...     ...     ...     ...     ...   \n",
      "3        0       0       0       0       0       0       0       0       0   \n",
      "183      1       0       0       0       0       0       0       0       0   \n",
      "127      1       0       0       0       0       0       0       0       0   \n",
      "791      7       0       0       0       0       0       0       0       0   \n",
      "362      3       0       0       0       0       0       0       0       0   \n",
      "\n",
      "     pixel8  ...  pixel774  pixel775  pixel776  pixel777  pixel778  pixel779  \\\n",
      "866       0  ...         0         0         0         0         0         0   \n",
      "150       0  ...         0         0         0         0         0         0   \n",
      "930       0  ...         0         0         0         0         0         0   \n",
      "35        0  ...         0         0         0         0         0         0   \n",
      "326       0  ...         0         0         0         0         0         0   \n",
      "..      ...  ...       ...       ...       ...       ...       ...       ...   \n",
      "3         0  ...         0         0         0         0         0         0   \n",
      "183       0  ...         0         0         0         0         0         0   \n",
      "127       0  ...         0         0         0         0         0         0   \n",
      "791       0  ...         0         0         0         0         0         0   \n",
      "362       0  ...         0         0         0         0         0         0   \n",
      "\n",
      "     pixel780  pixel781  pixel782  pixel783  \n",
      "866         0         0         0         0  \n",
      "150         0         0         0         0  \n",
      "930         0         0         0         0  \n",
      "35          0         0         0         0  \n",
      "326         0         0         0         0  \n",
      "..        ...       ...       ...       ...  \n",
      "3           0         0         0         0  \n",
      "183         0         0         0         0  \n",
      "127         0         0         0         0  \n",
      "791         0         0         0         0  \n",
      "362         0         0         0         0  \n",
      "\n",
      "[1000 rows x 785 columns]\n"
     ]
    }
   ],
   "source": [
    "import pandas as pd \n",
    "from sklearn.utils import shuffle \n",
    " \n",
    "data = pd.read_csv('dataset.csv')\n",
    "data = shuffle(data)\n",
    "print(data)"
   ]
  },
  {
   "cell_type": "markdown",
   "metadata": {},
   "source": []
  },
  {
   "cell_type": "code",
   "execution_count": 12,
   "metadata": {},
   "outputs": [],
   "source": [
    "X = data.drop([\"label\"],axis=1)\n",
    "Y= data[\"label\"]"
   ]
  },
  {
   "cell_type": "code",
   "execution_count": 13,
   "metadata": {},
   "outputs": [
    {
     "name": "stdout",
     "output_type": "stream",
     "text": [
      "3\n"
     ]
    },
    {
     "data": {
      "text/plain": [
       "<matplotlib.image.AxesImage at 0x1bba0cfd590>"
      ]
     },
     "execution_count": 13,
     "metadata": {},
     "output_type": "execute_result"
    },
    {
     "data": {
      "image/png": "[encoded data removed]",
      "text/plain": [
       "<Figure size 640x480 with 1 Axes>"
      ]
     },
     "metadata": {},
     "output_type": "display_data"
    }
   ],
   "source": [
    "%matplotlib inline\n",
    "import matplotlib.pyplot as plt\n",
    "idx = 314\n",
    "img = X.loc[idx].values.reshape(28,28)\n",
    "print(Y[idx])\n",
    "plt.imshow(img)"
   ]
  },
  {
   "cell_type": "code",
   "execution_count": 17,
   "metadata": {},
   "outputs": [
    {
     "data": {
      "image/png": "[encoded data removed]",
      "text/plain": [
       "<Figure size 1500x600 with 4 Axes>"
      ]
     },
     "metadata": {},
     "output_type": "display_data"
    }
   ],
   "source": [
    "import pandas as pd\n",
    "import matplotlib.pyplot as plt\n",
    "\n",
    "df_results = pd.read_csv('analysis.csv')\n",
    "\n",
    "metrics = df_results['Metric'].unique()\n",
    "models = df_results['Model'].unique()\n",
    "\n",
    "model_scores = {model: [] for model in models}\n",
    "\n",
    "for model in models:\n",
    "    for metric in metrics:\n",
    "        score = df_results.loc[(df_results['Model'] == model) & (df_results['Metric'] == metric), 'Score'].values\n",
    "        model_scores[model].append(score[0] if len(score) > 0 else 0)\n",
    "\n",
    "max_score = max([max(scores) for scores in model_scores.values()])\n",
    "scaled_model_scores = {model: [score / max_score * 100 for score in scores] for model, scores in model_scores.items()}\n",
    "\n",
    "bar_width = 0.1\n",
    "index = range(len(metrics))\n",
    "\n",
    "colors = ['blue', 'green', 'purple', 'orange']\n",
    "\n",
    "fig, axs = plt.subplots(1, len(models), figsize=(15, 6), sharey=True)\n",
    "\n",
    "for i, (model, color) in enumerate(zip(models, colors)):\n",
    "    axs[i].bar(index, scaled_model_scores[model], bar_width, label=model, color=color)\n",
    "    axs[i].set_ylabel('Score (%)')\n",
    "    axs[i].set_title(f'{model} - Metric Comparison')\n",
    "    axs[i].set_xticks(index)\n",
    "    axs[i].set_xticklabels(metrics, rotation=45)\n",
    "    axs[i].legend()\n",
    "\n",
    "plt.tight_layout()\n",
    "plt.show()\n"
   ]
  },
  {
   "cell_type": "code",
   "execution_count": null,
   "metadata": {},
   "outputs": [],
   "source": []
  }
 ],
 "metadata": {
  "kernelspec": {
   "display_name": "Python 3",
   "language": "python",
   "name": "python3"
  },
  "language_info": {
   "codemirror_mode": {
    "name": "ipython",
    "version": 3
   },
   "file_extension": ".py",
   "mimetype": "text/x-python",
   "name": "python",
   "nbconvert_exporter": "python",
   "pygments_lexer": "ipython3",
   "version": "3.11.2"
  }
 },
 "nbformat": 4,
 "nbformat_minor": 4
}
