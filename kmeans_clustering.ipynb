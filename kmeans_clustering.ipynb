{
 "cells": [
  {
   "cell_type": "code",
   "execution_count": 110,
   "metadata": {},
   "outputs": [],
   "source": [
    "import numpy as np\n",
    "import pandas as pd\n",
    "from collections import Counter\n",
    "from sklearn.utils import shuffle \n",
    "import os\n",
    "\n",
    "data = pd.read_csv('dataset.csv')\n",
    "data = shuffle(data)\n",
    "X = data.drop('label', axis=1).values\n",
    "y = data['label'].values\n",
    "\n",
    "\n",
    "X = X / 255.0\n"
   ]
  },
  {
   "cell_type": "code",
   "execution_count": 111,
   "metadata": {},
   "outputs": [],
   "source": [
    "class StandardScaler:\n",
    "    def fit_transform(self, X):\n",
    "        self.mean_ = np.mean(X, axis=0)\n",
    "        self.std_ = np.std(X, axis=0)\n",
    "        self.std_ = np.where(self.std_ == 0, 1e-8, self.std_)\n",
    "\n",
    "        return (X - self.mean_) / self.std_\n",
    "\n",
    "scaler = StandardScaler()\n",
    "X = scaler.fit_transform(X) \n"
   ]
  },
  {
   "cell_type": "code",
   "execution_count": 112,
   "metadata": {},
   "outputs": [],
   "source": [
    "def train_test_split_custom(X, y, test_size=0.2, random_state=None):\n",
    "    if random_state is not None:\n",
    "        np.random.seed(random_state)\n",
    "    \n",
    "    indices = np.arange(X.shape[0])\n",
    "    np.random.shuffle(indices)\n",
    "    \n",
    "    X = X[indices]\n",
    "    y = y[indices]\n",
    "    \n",
    "    split_index = int((1 - test_size) * len(X))\n",
    "    \n",
    "    X_train, X_test = X[:split_index], X[split_index:]\n",
    "    y_train, y_test = y[:split_index], y[split_index:]\n",
    "    \n",
    "    return X_train, X_test, y_train, y_test\n",
    "\n",
    "X_train, X_test, y_train, y_test = train_test_split_custom(X, y, test_size=0.2, random_state=42)"
   ]
  },
  {
   "cell_type": "code",
   "execution_count": 113,
   "metadata": {},
   "outputs": [],
   "source": [
    "class KMeans:\n",
    "    def __init__(self, k=10, max_iters=100, tol=1e-4):\n",
    "        self.k = k \n",
    "        self.max_iters = max_iters\n",
    "        self.tol = tol \n",
    "    def fit(self, X):\n",
    "        np.random.seed(42)\n",
    "        random_indices = np.random.choice(X.shape[0], self.k, replace=False)\n",
    "        self.centroids = X[random_indices]\n",
    "\n",
    "        for _ in range(self.max_iters):\n",
    "            self.labels_ = self._assign_labels(X)\n",
    "            new_centroids = self._update_centroids(X)\n",
    "            if np.linalg.norm(new_centroids - self.centroids) < self.tol:\n",
    "                break\n",
    "\n",
    "            self.centroids = new_centroids\n",
    "    def _assign_labels(self, X):\n",
    "        distances = np.linalg.norm(X[:, np.newaxis] - self.centroids, axis=2)\n",
    "        return np.argmin(distances, axis=1)\n",
    "\n",
    "    def _update_centroids(self, X):\n",
    "        new_centroids = np.array([X[self.labels_ == i].mean(axis=0) for i in range(self.k)])\n",
    "        return new_centroids\n",
    "\n",
    "    def predict(self, X):\n",
    "        return self._assign_labels(X)"
   ]
  },
  {
   "cell_type": "code",
   "execution_count": 114,
   "metadata": {},
   "outputs": [
    {
     "name": "stdout",
     "output_type": "stream",
     "text": [
      "[4. 0. 0. 8. 2. 7. 7. 3. 0. 5.]\n"
     ]
    }
   ],
   "source": [
    "kmeans = KMeans(k=10)\n",
    "kmeans.fit(X_train)\n",
    "cluster_labels = np.zeros(10)\n",
    "\n",
    "for i in range(10):\n",
    "    cluster_points = y_train[kmeans.labels_ == i]\n",
    "    cluster_labels[i] = Counter(cluster_points).most_common(1)[0][0]\n",
    "    \n",
    "print(cluster_labels)\n",
    "y_pred = []\n",
    "\n",
    "for test_point in X_test:\n",
    "    closest_cluster_idx = np.argmin(np.linalg.norm(test_point - kmeans.centroids, axis=1))\n",
    "    y_pred.append(cluster_labels[closest_cluster_idx])\n"
   ]
  },
  {
   "cell_type": "code",
   "execution_count": 115,
   "metadata": {},
   "outputs": [
    {
     "name": "stdout",
     "output_type": "stream",
     "text": [
      "Accuracy: 5.00%\n"
     ]
    }
   ],
   "source": [
    "import numpy as np\n",
    "from sklearn.metrics import accuracy_score\n",
    "\n",
    "y_pred = []\n",
    "\n",
    "for test_point in X_test:\n",
    "    closest_cluster_idx = np.argmin(np.linalg.norm(test_point - kmeans.centroids, axis=1))\n",
    "    y_pred.append(closest_cluster_idx) \n",
    "\n",
    "accuracy = accuracy_score(y_test, y_pred)\n",
    "print(f\"Accuracy: {accuracy * 100:.2f}%\")\n"
   ]
  },
  {
   "cell_type": "code",
   "execution_count": null,
   "metadata": {},
   "outputs": [
    {
     "name": "stdout",
     "output_type": "stream",
     "text": [
      "Confusion Matrix:\n",
      "[[ 0  1  4  0  0  1  4  0  9  0]\n",
      " [ 1  0  0  0 21  0  2  0  0  1]\n",
      " [ 0  0  0  0 15  0  0  0  0  1]\n",
      " [ 0  0  0  0  0  0  0  5  0 10]\n",
      " [ 7  0  1  0  0  0  4  0  0  2]\n",
      " [ 0  0  0  0  0  0  6  3  0  9]\n",
      " [ 0  0  0  1 10  0 10  0  0  0]\n",
      " [ 0  0  0  1  0  0 24  0  1  0]\n",
      " [ 0  0  0  4  1  0 17  0  0  0]\n",
      " [ 0  0  0  9  0  0 13  0  2  0]]\n",
      "\n",
      "Analysis:\n",
      "                Metric              Score\n",
      "0                Model                KNN\n",
      "1             Accuracy               91.0\n",
      "2      Macro-Precision  91.32828282828281\n",
      "3         Macro-Recall  91.60571507918056\n",
      "4       Macro-F1-Score  90.61434066769225\n",
      "5   Weighted-Precision   92.3169191919192\n",
      "6      Weighted-Recall               91.0\n",
      "7    Weighted-F1-Score  90.81911117458313\n",
      "8                Model            K-means\n",
      "9             Accuracy                5.0\n",
      "10     Macro-Precision               1.25\n",
      "11        Macro-Recall           4.761905\n",
      "12      Macro-F1-Score           1.980198\n",
      "13  Weighted-Precision             1.3125\n",
      "14     Weighted-Recall                5.0\n",
      "15   Weighted-F1-Score           2.079208\n"
     ]
    }
   ],
   "source": [
    "\n",
    "conf_matrix = np.zeros((10, 10), dtype=int)\n",
    "\n",
    "for true, pred in zip(y_test, y_pred):\n",
    "    conf_matrix[true, pred] += 1\n",
    "\n",
    "precision = np.zeros(10)\n",
    "recall = np.zeros(10)\n",
    "f1_score = np.zeros(10)\n",
    "\n",
    "for i in range(10):\n",
    "    TP = conf_matrix[i, i]\n",
    "    FP = np.sum(conf_matrix[:, i]) - TP\n",
    "    FN = np.sum(conf_matrix[i, :]) - TP\n",
    "    TN = np.sum(conf_matrix) - (TP + FP + FN)\n",
    "\n",
    "    # Precision and recall\n",
    "    precision[i] = TP / (TP + FP) if (TP + FP) != 0 else 0\n",
    "    recall[i] = TP / (TP + FN) if (TP + FN) != 0 else 0\n",
    "\n",
    "    # F1-score\n",
    "    f1_score[i] = 2 * (precision[i] * recall[i]) / (precision[i] + recall[i]) if (precision[i] + recall[i]) != 0 else 0\n",
    "\n",
    "accuracy = np.sum(y_pred == y_test) / len(y_test)\n",
    "\n",
    "macro_precision = np.mean(precision)\n",
    "macro_recall = np.mean(recall)\n",
    "macro_f1_score = np.mean(f1_score)\n",
    "\n",
    "support = np.array([np.sum(y_test == i) for i in range(10)])\n",
    "weighted_precision = np.sum(precision * support) / np.sum(support)\n",
    "weighted_recall = np.sum(recall * support) / np.sum(support)\n",
    "weighted_f1_score = np.sum(f1_score * support) / np.sum(support)\n",
    "\n",
    "results = {\n",
    "    'Metric': ['Accuracy', 'Macro-Precision', 'Macro-Recall', 'Macro-F1-Score',\n",
    "               'Weighted-Precision', 'Weighted-Recall', 'Weighted-F1-Score'],\n",
    "    'Score': [accuracy * 100, macro_precision * 100, macro_recall * 100, macro_f1_score * 100,\n",
    "              weighted_precision * 100, weighted_recall * 100, weighted_f1_score * 100]\n",
    "}\n",
    "\n",
    "df_results = pd.DataFrame(results)\n",
    "\n",
    "if os.path.exists('analysis.csv'):\n",
    "    existing_results = pd.read_csv('analysis.csv')\n",
    "    df_results = pd.concat([existing_results, pd.DataFrame(results)], ignore_index=True)\n",
    "else:\n",
    "    df_results = pd.DataFrame(results)\n",
    "    \n",
    "df_results.to_csv('analysis.csv', index=False)\n",
    "\n",
    "print(\"Confusion Matrix:\")\n",
    "print(conf_matrix)\n",
    "print(\"\\nAnalysis:\")\n",
    "print(df_results)"
   ]
  },
  {
   "cell_type": "code",
   "execution_count": 105,
   "metadata": {},
   "outputs": [
    {
     "data": {
      "text/plain": [
       "['model/digit_recognizer_4']"
      ]
     },
     "execution_count": 105,
     "metadata": {},
     "output_type": "execute_result"
    }
   ],
   "source": [
    "import joblib\n",
    "\n",
    "joblib.dump(kmeans, 'model/digit_recognizer_4')"
   ]
  },
  {
   "cell_type": "code",
   "execution_count": 106,
   "metadata": {},
   "outputs": [
    {
     "data": {
      "image/png": "[encoded data removed]",
      "text/plain": [
       "<Figure size 500x500 with 1 Axes>"
      ]
     },
     "metadata": {},
     "output_type": "display_data"
    }
   ],
   "source": [
    "from matplotlib import pyplot as plt\n",
    "idx = 2\n",
    "img = X_test[idx].reshape(28, 28)\n",
    "predicted_label = y_pred[idx]\n",
    "plt.figure(figsize=(5, 5))\n",
    "plt.imshow(img, cmap='gray')\n",
    "plt.title(f\"Predicted Label: {predicted_label}\")\n",
    "plt.axis('off')\n",
    "plt.show()"
   ]
  },
  {
   "cell_type": "code",
   "execution_count": 107,
   "metadata": {},
   "outputs": [
    {
     "data": {
      "image/png": "[encoded data removed]",
      "text/plain": [
       "<Figure size 500x500 with 1 Axes>"
      ]
     },
     "metadata": {},
     "output_type": "display_data"
    }
   ],
   "source": [
    "from matplotlib import pyplot as plt\n",
    "idx = 3\n",
    "img = X_test[idx].reshape(28, 28)\n",
    "predicted_label = y_pred[idx]\n",
    "plt.figure(figsize=(5, 5))\n",
    "plt.imshow(img, cmap='gray')\n",
    "plt.title(f\"Predicted Label: {predicted_label}\")\n",
    "plt.axis('off')\n",
    "plt.show()"
   ]
  },
  {
   "cell_type": "code",
   "execution_count": 108,
   "metadata": {},
   "outputs": [
    {
     "data": {
      "image/png": "[encoded data removed]",
      "text/plain": [
       "<Figure size 500x500 with 1 Axes>"
      ]
     },
     "metadata": {},
     "output_type": "display_data"
    }
   ],
   "source": [
    "from matplotlib import pyplot as plt\n",
    "idx = 1\n",
    "img = X_test[idx].reshape(28, 28)\n",
    "predicted_label = y_pred[idx]\n",
    "plt.figure(figsize=(5, 5))\n",
    "plt.imshow(img, cmap='gray')\n",
    "plt.title(f\"Predicted Label: {predicted_label}\")\n",
    "plt.axis('off')\n",
    "plt.show()"
   ]
  },
  {
   "cell_type": "code",
   "execution_count": 109,
   "metadata": {},
   "outputs": [
    {
     "data": {
      "image/png": "[encoded data removed]",
      "text/plain": [
       "<Figure size 500x500 with 1 Axes>"
      ]
     },
     "metadata": {},
     "output_type": "display_data"
    }
   ],
   "source": [
    "from matplotlib import pyplot as plt\n",
    "idx = 2\n",
    "img = X_test[idx].reshape(28, 28)\n",
    "predicted_label = y_pred[idx]\n",
    "plt.figure(figsize=(5, 5))\n",
    "plt.imshow(img, cmap='gray')\n",
    "plt.title(f\"Predicted Label: {predicted_label}\")\n",
    "plt.axis('off')\n",
    "plt.show()"
   ]
  },
  {
   "cell_type": "code",
   "execution_count": null,
   "metadata": {},
   "outputs": [],
   "source": []
  }
 ],
 "metadata": {
  "kernelspec": {
   "display_name": "Python 3",
   "language": "python",
   "name": "python3"
  },
  "language_info": {
   "codemirror_mode": {
    "name": "ipython",
    "version": 3
   },
   "file_extension": ".py",
   "mimetype": "text/x-python",
   "name": "python",
   "nbconvert_exporter": "python",
   "pygments_lexer": "ipython3",
   "version": "3.11.2"
  }
 },
 "nbformat": 4,
 "nbformat_minor": 2
}
