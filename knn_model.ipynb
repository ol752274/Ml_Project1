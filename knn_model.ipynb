{
 "cells": [
  {
   "cell_type": "code",
   "execution_count": 1,
   "metadata": {},
   "outputs": [
    {
     "name": "stdout",
     "output_type": "stream",
     "text": [
      "Accuracy: 96.06%\n"
     ]
    }
   ],
   "source": [
    "import numpy as np\n",
    "import pandas as pd\n",
    "from sklearn.model_selection import train_test_split\n",
    "from collections import Counter\n",
    "\n",
    "# Load the dataset\n",
    "data = pd.read_csv('dataset.csv')\n",
    "\n",
    "# Assuming the dataset has features in columns 'pixel1', 'pixel2', ..., 'pixelN' and the target is labeled 'label'\n",
    "X = data.drop('label', axis=1).values\n",
    "y = data['label'].values\n",
    "\n",
    "# Split the data into training (80%) and testing (20%)\n",
    "X_train, X_test, y_train, y_test = train_test_split(X, y, test_size=0.2, random_state=42)\n",
    "\n",
    "# Define the custom KNN Classifier\n",
    "class CustomKNN:\n",
    "    def __init__(self, k=3):\n",
    "        self.k = k\n",
    "\n",
    "    def fit(self, X_train, y_train):\n",
    "        self.X_train = X_train\n",
    "        self.y_train = y_train\n",
    "\n",
    "    def predict(self, X_test):\n",
    "        predictions = [self._predict(x) for x in X_test]\n",
    "        return np.array(predictions)\n",
    "\n",
    "    def _predict(self, x):\n",
    "        # Compute distances between x and all examples in the training set\n",
    "        distances = [np.linalg.norm(x - x_train) for x_train in self.X_train]\n",
    "        \n",
    "        # Get the indices of the k nearest neighbors\n",
    "        k_indices = np.argsort(distances)[:self.k]\n",
    "        \n",
    "        # Get the labels of the k nearest neighbors\n",
    "        k_neighbor_labels = [self.y_train[i] for i in k_indices]\n",
    "        \n",
    "        # Majority vote, most common class label\n",
    "        most_common = Counter(k_neighbor_labels).most_common(1)\n",
    "        return most_common[0][0]\n",
    "\n",
    "# Initialize the KNN model\n",
    "knn = CustomKNN(k=3)\n",
    "\n",
    "# Train the model\n",
    "knn.fit(X_train, y_train)\n",
    "\n",
    "# Make predictions\n",
    "y_pred = knn.predict(X_test)\n",
    "\n",
    "# Evaluate the model\n",
    "accuracy = np.sum(y_pred == y_test) / len(y_test)\n",
    "print(f\"Accuracy: {accuracy * 100:.2f}%\")"
   ]
  },
  {
   "cell_type": "code",
   "execution_count": 2,
   "metadata": {},
   "outputs": [
    {
     "data": {
      "text/plain": [
       "['model/digit_recognizer_3']"
      ]
     },
     "execution_count": 2,
     "metadata": {},
     "output_type": "execute_result"
    }
   ],
   "source": [
    "import joblib\n",
    "\n",
    "# Save the trained KNN model\n",
    "joblib.dump(knn, 'model/digit_recognizer_3')\n"
   ]
  },
  {
   "cell_type": "code",
   "execution_count": null,
   "metadata": {},
   "outputs": [
    {
     "name": "stdout",
     "output_type": "stream",
     "text": [
      "Prediction: 3\n",
      "Prediction: 3\n",
      "Prediction: 3\n",
      "Prediction: 3\n",
      "Prediction: 3\n",
      "Prediction: 3\n",
      "Prediction: 6\n",
      "Prediction: 6\n",
      "Prediction: 7\n",
      "Prediction: 7\n",
      "Prediction: 7\n",
      "Prediction: 7\n",
      "Prediction: 6\n",
      "Prediction: 6\n",
      "Prediction: 7\n",
      "Prediction: 7\n",
      "Prediction: 9\n",
      "Prediction: 7\n",
      "Prediction: 7\n",
      "Prediction: 7\n",
      "Prediction: 0\n",
      "Prediction: 0\n",
      "Prediction: 3\n",
      "Prediction: 7\n",
      "Prediction: 7\n",
      "Prediction: 3\n",
      "Prediction: 3\n",
      "Prediction: 3\n",
      "Prediction: 3\n",
      "Prediction: 3\n",
      "Prediction: 3\n",
      "Prediction: 3\n",
      "Prediction: 3\n"
     ]
    }
   ],
   "source": [
    "import joblib\n",
    "import cv2\n",
    "import numpy as np\n",
    "import pyscreenshot as ImageGrab\n",
    "import time\n",
    "\n",
    "# Load the updated pre-trained SVM model\n",
    "model = joblib.load(\"model/digit_recognizer_3\")\n",
    "image_folder = \"./img/\"\n",
    "\n",
    "while True:\n",
    "    # Capture the screen region\n",
    "    img = ImageGrab.grab(bbox=(60, 470, 400, 870))\n",
    "    img.save(image_folder + \"img.png\")\n",
    "    \n",
    "    # Preprocess the image\n",
    "    im = cv2.imread(image_folder + \"img.png\")\n",
    "    im_gray = cv2.cvtColor(im, cv2.COLOR_BGR2GRAY)\n",
    "    im_gray = cv2.GaussianBlur(im_gray, (15, 15), 0)\n",
    "    \n",
    "    # Threshold the image\n",
    "    _, im_th = cv2.threshold(im_gray, 100, 255, cv2.THRESH_BINARY)\n",
    "    roi = cv2.resize(im_th, (28, 28), interpolation=cv2.INTER_AREA)\n",
    "    \n",
    "    # Normalize the image\n",
    "    roi = roi / 255.0\n",
    "    X = roi.flatten()  # Flatten into a single array\n",
    "    \n",
    "    # Predict the digit\n",
    "    predictions = model.predict([X])\n",
    "    print(\"Prediction:\", predictions[0])\n",
    "    \n",
    "    # Display the result\n",
    "    cv2.putText(im, f\"Prediction: {predictions[0]}\", (20, 50), cv2.FONT_HERSHEY_SIMPLEX, 1, (0, 255, 0), 2)\n",
    "    cv2.imshow(\"Result\", im)\n",
    "    \n",
    "    # Wait for 10 seconds\n",
    "    time.sleep(5)\n",
    "\n",
    "    # Break on Enter key\n",
    "    if cv2.waitKey(1) == 13:  # Press Enter to exit\n",
    "        break\n",
    "\n",
    "cv2.destroyAllWindows()\n"
   ]
  },
  {
   "cell_type": "code",
   "execution_count": null,
   "metadata": {},
   "outputs": [],
   "source": []
  }
 ],
 "metadata": {
  "kernelspec": {
   "display_name": "Python 3",
   "language": "python",
   "name": "python3"
  },
  "language_info": {
   "codemirror_mode": {
    "name": "ipython",
    "version": 3
   },
   "file_extension": ".py",
   "mimetype": "text/x-python",
   "name": "python",
   "nbconvert_exporter": "python",
   "pygments_lexer": "ipython3",
   "version": "3.11.2"
  }
 },
 "nbformat": 4,
 "nbformat_minor": 2
}
