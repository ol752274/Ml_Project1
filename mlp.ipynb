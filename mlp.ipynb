{
 "cells": [
  {
   "cell_type": "code",
   "execution_count": 1,
   "metadata": {
    "_cell_guid": "b1076dfc-b9ad-4769-8c92-a6c4dae69d19",
    "_uuid": "8f2839f25d086af736a60e9eeb907d3b93b6e0e5",
    "execution": {
     "iopub.execute_input": "2024-11-29T17:02:36.757536Z",
     "iopub.status.busy": "2024-11-29T17:02:36.757071Z",
     "iopub.status.idle": "2024-11-29T17:02:38.005661Z",
     "shell.execute_reply": "2024-11-29T17:02:38.004335Z",
     "shell.execute_reply.started": "2024-11-29T17:02:36.757499Z"
    },
    "trusted": true
   },
   "outputs": [],
   "source": [
    "import numpy as np\n",
    "import pandas as pd\n",
    "from matplotlib import pyplot as plt"
   ]
  },
  {
   "cell_type": "code",
   "execution_count": 2,
   "metadata": {
    "execution": {
     "iopub.execute_input": "2024-11-29T17:02:39.877294Z",
     "iopub.status.busy": "2024-11-29T17:02:39.876732Z",
     "iopub.status.idle": "2024-11-29T17:02:43.550352Z",
     "shell.execute_reply": "2024-11-29T17:02:43.549217Z",
     "shell.execute_reply.started": "2024-11-29T17:02:39.877224Z"
    },
    "trusted": true
   },
   "outputs": [],
   "source": [
    "# Load the dataset\n",
    "data = pd.read_csv('train.csv')"
   ]
  },
  {
   "cell_type": "code",
   "execution_count": 4,
   "metadata": {
    "execution": {
     "iopub.execute_input": "2024-11-29T17:02:45.892053Z",
     "iopub.status.busy": "2024-11-29T17:02:45.891539Z",
     "iopub.status.idle": "2024-11-29T17:02:45.913337Z",
     "shell.execute_reply": "2024-11-29T17:02:45.911117Z",
     "shell.execute_reply.started": "2024-11-29T17:02:45.892012Z"
    },
    "trusted": true
   },
   "outputs": [],
   "source": [
    "# Inspect data for null values\n",
    "if data.isnull().values.any():\n",
    "    print(\"Data contains null values. Cleaning...\")\n",
    "    data = data.dropna()"
   ]
  },
  {
   "cell_type": "code",
   "execution_count": 5,
   "metadata": {
    "execution": {
     "iopub.execute_input": "2024-11-29T17:03:01.142867Z",
     "iopub.status.busy": "2024-11-29T17:03:01.142213Z",
     "iopub.status.idle": "2024-11-29T17:03:02.082610Z",
     "shell.execute_reply": "2024-11-29T17:03:02.081019Z",
     "shell.execute_reply.started": "2024-11-29T17:03:01.142819Z"
    },
    "trusted": true
   },
   "outputs": [],
   "source": [
    "# Convert to numpy array\n",
    "data = np.array(data)\n",
    "np.random.shuffle(data)  # Shuffle before splitting into train and dev sets"
   ]
  },
  {
   "cell_type": "code",
   "execution_count": 7,
   "metadata": {
    "execution": {
     "iopub.execute_input": "2024-11-29T14:56:53.233477Z",
     "iopub.status.busy": "2024-11-29T14:56:53.233061Z",
     "iopub.status.idle": "2024-11-29T14:56:53.357940Z",
     "shell.execute_reply": "2024-11-29T14:56:53.356512Z",
     "shell.execute_reply.started": "2024-11-29T14:56:53.233441Z"
    },
    "trusted": true
   },
   "outputs": [],
   "source": [
    "# Split dataset into development and training sets\n",
    "m, n = data.shape\n",
    "data_dev = data[:1000].T\n",
    "Y_dev = data_dev[0]  # Labels\n",
    "X_dev = data_dev[1:]  # Features\n",
    "X_dev = X_dev / 255.0  # Normalize pixel values\n",
    "\n",
    "data_train = data[1000:].T\n",
    "Y_train = data_train[0]\n",
    "X_train = data_train[1:]\n",
    "X_train = X_train / 255.0\n",
    "_, m_train = X_train.shape"
   ]
  },
  {
   "cell_type": "code",
   "execution_count": 8,
   "metadata": {
    "execution": {
     "iopub.execute_input": "2024-11-29T14:56:56.050793Z",
     "iopub.status.busy": "2024-11-29T14:56:56.050406Z",
     "iopub.status.idle": "2024-11-29T14:56:56.722684Z",
     "shell.execute_reply": "2024-11-29T14:56:56.721448Z",
     "shell.execute_reply.started": "2024-11-29T14:56:56.050757Z"
    },
    "trusted": true
   },
   "outputs": [
    {
     "data": {
      "image/png": "[encoded data removed]",
      "text/plain": [
       "<Figure size 1000x500 with 10 Axes>"
      ]
     },
     "metadata": {},
     "output_type": "display_data"
    }
   ],
   "source": [
    "# Visualize sample data\n",
    "plt.figure(figsize=(10, 5))\n",
    "for i in range(10):\n",
    "    plt.subplot(2, 5, i + 1)\n",
    "    plt.imshow(X_train[:, i].reshape(28, 28), cmap='gray')\n",
    "    plt.title(f\"Label: {Y_train[i]}\")\n",
    "    plt.axis('off')\n",
    "plt.show()"
   ]
  },
  {
   "cell_type": "code",
   "execution_count": 9,
   "metadata": {
    "execution": {
     "iopub.execute_input": "2024-11-29T14:57:04.126998Z",
     "iopub.status.busy": "2024-11-29T14:57:04.126587Z",
     "iopub.status.idle": "2024-11-29T14:57:04.140232Z",
     "shell.execute_reply": "2024-11-29T14:57:04.138818Z",
     "shell.execute_reply.started": "2024-11-29T14:57:04.126961Z"
    },
    "trusted": true
   },
   "outputs": [],
   "source": [
    "# Initialize parameters\n",
    "def init_params():\n",
    "    W1 = np.random.rand(10, 784) - 0.5\n",
    "    b1 = np.random.rand(10, 1) - 0.5\n",
    "    W2 = np.random.rand(10, 10) - 0.5\n",
    "    b2 = np.random.rand(10, 1) - 0.5\n",
    "    return W1, b1, W2, b2\n",
    "\n",
    "# Activation functions\n",
    "def ReLU(Z):\n",
    "    return np.maximum(Z, 0)\n",
    "\n",
    "def softmax(Z):\n",
    "    exp_Z = np.exp(Z - np.max(Z, axis=0, keepdims=True))  # Stability improvement\n",
    "    return exp_Z / np.sum(exp_Z, axis=0, keepdims=True)\n",
    "\n",
    "# Forward propagation\n",
    "def forward_prop(W1, b1, W2, b2, X):\n",
    "    Z1 = W1.dot(X) + b1\n",
    "    A1 = ReLU(Z1)\n",
    "    Z2 = W2.dot(A1) + b2\n",
    "    A2 = softmax(Z2)\n",
    "    return Z1, A1, Z2, A2\n",
    "\n",
    "# Derivative of ReLU\n",
    "def ReLU_deriv(Z):\n",
    "    return Z > 0\n",
    "\n",
    "# One-hot encoding\n",
    "def one_hot(Y):\n",
    "    one_hot_Y = np.zeros((Y.size, Y.max() + 1))\n",
    "    one_hot_Y[np.arange(Y.size), Y] = 1\n",
    "    return one_hot_Y.T\n",
    "\n",
    "# Backward propagation\n",
    "def backward_prop(Z1, A1, Z2, A2, W1, W2, X, Y):\n",
    "    m = X.shape[1]\n",
    "    one_hot_Y = one_hot(Y)\n",
    "    dZ2 = A2 - one_hot_Y\n",
    "    dW2 = 1 / m * dZ2.dot(A1.T)\n",
    "    db2 = 1 / m * np.sum(dZ2, axis=1, keepdims=True)\n",
    "    dZ1 = W2.T.dot(dZ2) * ReLU_deriv(Z1)\n",
    "    dW1 = 1 / m * dZ1.dot(X.T)\n",
    "    db1 = 1 / m * np.sum(dZ1, axis=1, keepdims=True)\n",
    "    return dW1, db1, dW2, db2\n",
    "\n",
    "# Update parameters\n",
    "def update_params(W1, b1, W2, b2, dW1, db1, dW2, db2, alpha):\n",
    "    W1 -= alpha * dW1\n",
    "    b1 -= alpha * db1\n",
    "    W2 -= alpha * dW2\n",
    "    b2 -= alpha * db2\n",
    "    return W1, b1, W2, b2"
   ]
  },
  {
   "cell_type": "code",
   "execution_count": 21,
   "metadata": {
    "execution": {
     "iopub.execute_input": "2024-11-29T16:10:15.054303Z",
     "iopub.status.busy": "2024-11-29T16:10:15.053928Z",
     "iopub.status.idle": "2024-11-29T16:12:13.690428Z",
     "shell.execute_reply": "2024-11-29T16:12:13.689081Z",
     "shell.execute_reply.started": "2024-11-29T16:10:15.054273Z"
    },
    "trusted": true
   },
   "outputs": [
    {
     "name": "stdout",
     "output_type": "stream",
     "text": [
      "[3 1 3 ... 2 1 1] [1 4 6 ... 0 6 8]\n",
      "[3 1 3 ... 2 1 1] [1 4 6 ... 0 6 8]\n",
      "0.09324390243902439\n",
      "Iteration 0: Accuracy = 0.0932\n",
      "[1 4 2 ... 0 6 8] [1 4 6 ... 0 6 8]\n",
      "[1 4 2 ... 0 6 8] [1 4 6 ... 0 6 8]\n",
      "0.6259756097560976\n",
      "Iteration 100: Accuracy = 0.6260\n",
      "[1 4 2 ... 0 6 8] [1 4 6 ... 0 6 8]\n",
      "[1 4 2 ... 0 6 8] [1 4 6 ... 0 6 8]\n",
      "0.7611707317073171\n",
      "Iteration 200: Accuracy = 0.7612\n",
      "[1 4 2 ... 0 6 8] [1 4 6 ... 0 6 8]\n",
      "[1 4 2 ... 0 6 8] [1 4 6 ... 0 6 8]\n",
      "0.8103414634146342\n",
      "Iteration 300: Accuracy = 0.8103\n",
      "[1 4 2 ... 0 6 8] [1 4 6 ... 0 6 8]\n",
      "[1 4 2 ... 0 6 8] [1 4 6 ... 0 6 8]\n",
      "0.8348780487804878\n",
      "Iteration 400: Accuracy = 0.8349\n",
      "[1 4 2 ... 0 6 8] [1 4 6 ... 0 6 8]\n",
      "[1 4 2 ... 0 6 8] [1 4 6 ... 0 6 8]\n",
      "0.8511219512195122\n",
      "Iteration 500: Accuracy = 0.8511\n",
      "[1 4 2 ... 0 6 8] [1 4 6 ... 0 6 8]\n",
      "[1 4 2 ... 0 6 8] [1 4 6 ... 0 6 8]\n",
      "0.8628048780487805\n",
      "Iteration 600: Accuracy = 0.8628\n",
      "[1 4 2 ... 0 6 8] [1 4 6 ... 0 6 8]\n",
      "[1 4 2 ... 0 6 8] [1 4 6 ... 0 6 8]\n",
      "0.8708780487804878\n",
      "Iteration 700: Accuracy = 0.8709\n",
      "[1 4 6 ... 0 6 8] [1 4 6 ... 0 6 8]\n",
      "[1 4 6 ... 0 6 8] [1 4 6 ... 0 6 8]\n",
      "0.8764878048780488\n",
      "Iteration 800: Accuracy = 0.8765\n",
      "[1 4 6 ... 0 6 8] [1 4 6 ... 0 6 8]\n",
      "[1 4 6 ... 0 6 8] [1 4 6 ... 0 6 8]\n",
      "0.8820731707317073\n",
      "Iteration 900: Accuracy = 0.8821\n"
     ]
    },
    {
     "data": {
      "image/png": "[encoded data removed]",
      "text/plain": [
       "<Figure size 1000x600 with 1 Axes>"
      ]
     },
     "metadata": {},
     "output_type": "display_data"
    }
   ],
   "source": [
    "# Predictions and accuracy\n",
    "def get_predictions(A2):\n",
    "    return np.argmax(A2, axis=0)\n",
    "\n",
    "def get_accuracy(predictions, Y):\n",
    "    print(predictions, Y)\n",
    "    return np.sum(predictions == Y) / Y.size\n",
    "\n",
    "# Training loop\n",
    "# Training loop with accuracy tracking\n",
    "def gradient_descent_with_plot(X, Y, alpha, iterations):\n",
    "    W1, b1, W2, b2 = init_params()\n",
    "    accuracies = []  # List to store accuracies\n",
    "    iterations_list = []  # List to store iteration numbers\n",
    "\n",
    "    for i in range(iterations):\n",
    "        Z1, A1, Z2, A2 = forward_prop(W1, b1, W2, b2, X)\n",
    "        dW1, db1, dW2, db2 = backward_prop(Z1, A1, Z2, A2, W1, W2, X, Y)\n",
    "        W1, b1, W2, b2 = update_params(W1, b1, W2, b2, dW1, db1, dW2, db2, alpha)\n",
    "        \n",
    "        if i % 100 == 0:  # Store accuracy every 100 iterations\n",
    "            predictions = get_predictions(A2)\n",
    "            accuracy = get_accuracy(predictions, Y)\n",
    "            print(get_accuracy(predictions, Y))\n",
    "            accuracies.append(accuracy)\n",
    "            iterations_list.append(i)\n",
    "            print(f\"Iteration {i}: Accuracy = {accuracy:.4f}\")\n",
    "    \n",
    "    return W1, b1, W2, b2, accuracies, iterations_list\n",
    "\n",
    "# Train the model and track accuracies\n",
    "W1, b1, W2, b2, accuracies, iterations_list = gradient_descent_with_plot(\n",
    "    X_train, Y_train, alpha=0.10, iterations=1000\n",
    ")\n",
    "\n",
    "# Plot accuracy over iterations\n",
    "plt.figure(figsize=(10, 6))\n",
    "plt.plot(iterations_list, accuracies, marker='o', linestyle='-', color='b', label='Training Accuracy')\n",
    "plt.title(\"Training Accuracy Over Iterations\")\n",
    "plt.xlabel(\"Iterations\")\n",
    "plt.ylabel(\"Accuracy\")\n",
    "plt.grid(True)\n",
    "plt.legend()\n",
    "plt.show()\n"
   ]
  },
  {
   "cell_type": "code",
   "execution_count": 19,
   "metadata": {
    "execution": {
     "iopub.execute_input": "2024-11-29T15:34:38.679821Z",
     "iopub.status.busy": "2024-11-29T15:34:38.679432Z",
     "iopub.status.idle": "2024-11-29T15:34:38.685148Z",
     "shell.execute_reply": "2024-11-29T15:34:38.683692Z",
     "shell.execute_reply.started": "2024-11-29T15:34:38.679786Z"
    },
    "trusted": true
   },
   "outputs": [],
   "source": [
    "# Train the model\n",
    "#W1, b1, W2, b2 = gradient_descent(X_train, Y_train, alpha=0.10, iterations=1000)"
   ]
  },
  {
   "cell_type": "code",
   "execution_count": 14,
   "metadata": {
    "execution": {
     "iopub.execute_input": "2024-11-29T13:27:28.104763Z",
     "iopub.status.busy": "2024-11-29T13:27:28.103379Z",
     "iopub.status.idle": "2024-11-29T13:27:28.113383Z",
     "shell.execute_reply": "2024-11-29T13:27:28.111592Z",
     "shell.execute_reply.started": "2024-11-29T13:27:28.104700Z"
    },
    "trusted": true
   },
   "outputs": [],
   "source": [
    "def make_predictions(X, W1, b1, W2, b2):\n",
    "    \"\"\"Make predictions using the trained model.\"\"\"\n",
    "    _, _, _, A2 = forward_prop(W1, b1, W2, b2, X)\n",
    "    predictions = get_predictions(A2)\n",
    "    return predictions\n",
    "\n",
    "def test_dev_prediction(index, X_dev, Y_dev, W1, b1, W2, b2):\n",
    "    \"\"\"\n",
    "    Test a single example from the development set.\n",
    "    Visualize the image and display the model's prediction.\n",
    "    \"\"\"\n",
    "    current_image = X_dev[:, index, None]\n",
    "    prediction = make_predictions(current_image, W1, b1, W2, b2)\n",
    "    label = Y_dev[index]\n",
    "    print(\"Prediction: \", prediction[0])\n",
    "    print(\"Label: \", label)\n",
    "    \n",
    "    # Reshape and visualize the image\n",
    "    current_image = current_image.reshape((28, 28)) * 255\n",
    "    plt.gray()\n",
    "    plt.imshow(current_image, interpolation='nearest')\n",
    "    plt.show()"
   ]
  },
  {
   "cell_type": "code",
   "execution_count": 15,
   "metadata": {
    "execution": {
     "iopub.execute_input": "2024-11-29T13:27:41.092655Z",
     "iopub.status.busy": "2024-11-29T13:27:41.092231Z",
     "iopub.status.idle": "2024-11-29T13:27:41.262802Z",
     "shell.execute_reply": "2024-11-29T13:27:41.261583Z",
     "shell.execute_reply.started": "2024-11-29T13:27:41.092624Z"
    },
    "trusted": true
   },
   "outputs": [
    {
     "name": "stdout",
     "output_type": "stream",
     "text": [
      "Prediction:  2\n",
      "Label:  2\n"
     ]
    },
    {
     "data": {
      "image/png": "[encoded data removed]",
      "text/plain": [
       "<Figure size 640x480 with 1 Axes>"
      ]
     },
     "metadata": {},
     "output_type": "display_data"
    }
   ],
   "source": [
    "# Example: Test a specific index from the development set\n",
    "test_dev_prediction(0, X_dev, Y_dev, W1, b1, W2, b2)"
   ]
  },
  {
   "cell_type": "code",
   "execution_count": 16,
   "metadata": {
    "execution": {
     "iopub.execute_input": "2024-11-29T13:27:50.315162Z",
     "iopub.status.busy": "2024-11-29T13:27:50.314739Z",
     "iopub.status.idle": "2024-11-29T13:27:50.548641Z",
     "shell.execute_reply": "2024-11-29T13:27:50.547426Z",
     "shell.execute_reply.started": "2024-11-29T13:27:50.315127Z"
    },
    "trusted": true
   },
   "outputs": [
    {
     "name": "stdout",
     "output_type": "stream",
     "text": [
      "Prediction:  4\n",
      "Label:  4\n"
     ]
    },
    {
     "data": {
      "image/png": "[encoded data removed]",
      "text/plain": [
       "<Figure size 640x480 with 1 Axes>"
      ]
     },
     "metadata": {},
     "output_type": "display_data"
    }
   ],
   "source": [
    "# Example: Test a specific index from the development set\n",
    "test_dev_prediction(22, X_dev, Y_dev, W1, b1, W2, b2)"
   ]
  },
  {
   "cell_type": "code",
   "execution_count": 18,
   "metadata": {
    "execution": {
     "iopub.execute_input": "2024-11-29T15:33:59.433894Z",
     "iopub.status.busy": "2024-11-29T15:33:59.433445Z",
     "iopub.status.idle": "2024-11-29T15:33:59.681117Z",
     "shell.execute_reply": "2024-11-29T15:33:59.679837Z",
     "shell.execute_reply.started": "2024-11-29T15:33:59.433853Z"
    },
    "trusted": true
   },
   "outputs": [
    {
     "name": "stdout",
     "output_type": "stream",
     "text": [
      "Development Set Accuracy: 0.8600\n"
     ]
    },
    {
     "data": {
      "image/png": "[encoded data removed]",
      "text/plain": [
       "<Figure size 600x400 with 1 Axes>"
      ]
     },
     "metadata": {},
     "output_type": "display_data"
    }
   ],
   "source": [
    "# Evaluate accuracy on the development set\n",
    "dev_predictions = make_predictions(X_dev, W1, b1, W2, b2)\n",
    "dev_accuracy = get_accuracy(dev_predictions, Y_dev)\n",
    "print(f\"Development Set Accuracy: {dev_accuracy:.4f}\")\n",
    "\n",
    "# Plot bar graph for development set accuracy\n",
    "plt.figure(figsize=(6, 4))\n",
    "plt.bar(['Development Set'], [dev_accuracy], color='orange', width=0.4)\n",
    "plt.ylim(0, 1)  # Accuracy ranges from 0 to 1\n",
    "plt.title(\"Development Set Accuracy\")\n",
    "plt.ylabel(\"Accuracy\")\n",
    "plt.grid(axis='y', linestyle='--', alpha=0.7)\n",
    "plt.show()\n"
   ]
  },
  {
   "cell_type": "code",
   "execution_count": 20,
   "metadata": {
    "execution": {
     "iopub.execute_input": "2024-11-29T15:36:03.509215Z",
     "iopub.status.busy": "2024-11-29T15:36:03.508749Z",
     "iopub.status.idle": "2024-11-29T15:36:03.519815Z",
     "shell.execute_reply": "2024-11-29T15:36:03.518285Z",
     "shell.execute_reply.started": "2024-11-29T15:36:03.509175Z"
    },
    "trusted": true
   },
   "outputs": [
    {
     "data": {
      "text/plain": [
       "'\\nimport numpy as np\\nimport pandas as pd\\nfrom matplotlib import pyplot as plt\\n\\n# Load the data\\ndata = pd.read_csv(\\'/kaggle/input/digit-recognizer/train.csv\\')\\n\\n# Preprocess the data\\ndata = np.array(data)\\nm, n = data.shape\\nnp.random.shuffle(data)  # Shuffle before splitting into dev and training sets\\n\\n# Split into training and development sets\\ndata_dev = data[0:1000].T\\nY_dev = data_dev[0]\\nX_dev = data_dev[1:n] / 255.  # Normalize pixel values\\n\\ndata_train = data[1000:m].T\\nY_train = data_train[0]\\nX_train = data_train[1:n] / 255.\\n_, m_train = X_train.shape\\n\\n# Initialize parameters\\ndef init_params():\\n    W1 = np.random.rand(10, 784) - 0.5\\n    b1 = np.random.rand(10, 1) - 0.5\\n    W2 = np.random.rand(10, 10) - 0.5\\n    b2 = np.random.rand(10, 1) - 0.5\\n    return W1, b1, W2, b2\\n\\n# Activation functions\\ndef ReLU(Z):\\n    return np.maximum(Z, 0)\\n\\ndef softmax(Z):\\n    expZ = np.exp(Z - np.max(Z, axis=0, keepdims=True))\\n    return expZ / expZ.sum(axis=0, keepdims=True)\\n\\n# Forward propagation\\ndef forward_prop(W1, b1, W2, b2, X):\\n    Z1 = W1.dot(X) + b1\\n    A1 = ReLU(Z1)\\n    Z2 = W2.dot(A1) + b2\\n    A2 = softmax(Z2)\\n    return Z1, A1, Z2, A2\\n\\n# Derivatives for backpropagation\\ndef ReLU_deriv(Z):\\n    return Z > 0\\n\\ndef one_hot(Y):\\n    one_hot_Y = np.zeros((Y.size, Y.max() + 1))\\n    one_hot_Y[np.arange(Y.size), Y] = 1\\n    return one_hot_Y.T\\n\\ndef backward_prop(Z1, A1, Z2, A2, W1, W2, X, Y):\\n    one_hot_Y = one_hot(Y)\\n    dZ2 = A2 - one_hot_Y\\n    dW2 = 1 / m_train * dZ2.dot(A1.T)\\n    db2 = 1 / m_train * np.sum(dZ2, axis=1, keepdims=True)\\n    dZ1 = W2.T.dot(dZ2) * ReLU_deriv(Z1)\\n    dW1 = 1 / m_train * dZ1.dot(X.T)\\n    db1 = 1 / m_train * np.sum(dZ1, axis=1, keepdims=True)\\n    return dW1, db1, dW2, db2\\n\\n# Update parameters\\ndef update_params(W1, b1, W2, b2, dW1, db1, dW2, db2, alpha):\\n    W1 -= alpha * dW1\\n    b1 -= alpha * db1    \\n    W2 -= alpha * dW2  \\n    b2 -= alpha * db2    \\n    return W1, b1, W2, b2\\n\\n# Helper functions for predictions and accuracy\\ndef get_predictions(A2):\\n    return np.argmax(A2, axis=0)\\n\\ndef get_accuracy(predictions, Y):\\n    return np.mean(predictions == Y)\\n\\ndef make_predictions(X, W1, b1, W2, b2):\\n    _, _, _, A2 = forward_prop(W1, b1, W2, b2, X)\\n    return get_predictions(A2)\\n\\ndef test_prediction(index, X, Y, W1, b1, W2, b2):\\n    current_image = X[:, index, None]\\n    prediction = make_predictions(current_image, W1, b1, W2, b2)\\n    label = Y[index]\\n    print(\"Prediction: \", prediction[0])\\n    print(\"Label: \", label)\\n    \\n    current_image = current_image.reshape((28, 28)) * 255\\n    plt.gray()\\n    plt.imshow(current_image, interpolation=\\'nearest\\')\\n    plt.show()\\n\\n# Gradient descent with accuracy tracking\\ndef gradient_descent(X, Y, X_dev, Y_dev, alpha, iterations):\\n    W1, b1, W2, b2 = init_params()\\n    train_accuracies = []\\n    dev_accuracies = []\\n    iterations_list = []\\n\\n    for i in range(iterations):\\n        Z1, A1, Z2, A2 = forward_prop(W1, b1, W2, b2, X)\\n        dW1, db1, dW2, db2 = backward_prop(Z1, A1, Z2, A2, W1, W2, X, Y)\\n        W1, b1, W2, b2 = update_params(W1, b1, W2, b2, dW1, db1, dW2, db2, alpha)\\n        \\n        if i % 100 == 0:\\n            # Track accuracy for training and development sets\\n            train_accuracy = get_accuracy(get_predictions(A2), Y)\\n            dev_accuracy = get_accuracy(make_predictions(X_dev, W1, b1, W2, b2), Y_dev)\\n            \\n            train_accuracies.append(train_accuracy)\\n            dev_accuracies.append(dev_accuracy)\\n            iterations_list.append(i)\\n            \\n            print(f\"Iteration {i}: Training Accuracy = {train_accuracy:.4f}, Development Accuracy = {dev_accuracy:.4f}\")\\n    \\n    return W1, b1, W2, b2, train_accuracies, dev_accuracies, iterations_list\\n\\n# Train the model and track accuracies\\nW1, b1, W2, b2, train_accuracies, dev_accuracies, iterations_list = gradient_descent(\\n    X_train, Y_train, X_dev, Y_dev, alpha=0.10, iterations=1000\\n)\\n\\n# Plot training and development accuracies\\nplt.figure(figsize=(12, 6))\\nplt.plot(iterations_list, train_accuracies, label=\"Training Accuracy\", marker=\\'o\\')\\nplt.plot(iterations_list, dev_accuracies, label=\"Development Accuracy\", marker=\\'x\\')\\nplt.title(\"Accuracy Over Iterations\")\\nplt.xlabel(\"Iterations\")\\nplt.ylabel(\"Accuracy\")\\nplt.legend()\\nplt.grid(True)\\nplt.show()\\n'"
      ]
     },
     "execution_count": 20,
     "metadata": {},
     "output_type": "execute_result"
    }
   ],
   "source": [
    "\"\"\"\n",
    "import numpy as np\n",
    "import pandas as pd\n",
    "from matplotlib import pyplot as plt\n",
    "\n",
    "# Load the data\n",
    "data = pd.read_csv('/kaggle/input/digit-recognizer/train.csv')\n",
    "\n",
    "# Preprocess the data\n",
    "data = np.array(data)\n",
    "m, n = data.shape\n",
    "np.random.shuffle(data)  # Shuffle before splitting into dev and training sets\n",
    "\n",
    "# Split into training and development sets\n",
    "data_dev = data[0:1000].T\n",
    "Y_dev = data_dev[0]\n",
    "X_dev = data_dev[1:n] / 255.  # Normalize pixel values\n",
    "\n",
    "data_train = data[1000:m].T\n",
    "Y_train = data_train[0]\n",
    "X_train = data_train[1:n] / 255.\n",
    "_, m_train = X_train.shape\n",
    "\n",
    "# Initialize parameters\n",
    "def init_params():\n",
    "    W1 = np.random.rand(10, 784) - 0.5\n",
    "    b1 = np.random.rand(10, 1) - 0.5\n",
    "    W2 = np.random.rand(10, 10) - 0.5\n",
    "    b2 = np.random.rand(10, 1) - 0.5\n",
    "    return W1, b1, W2, b2\n",
    "\n",
    "# Activation functions\n",
    "def ReLU(Z):\n",
    "    return np.maximum(Z, 0)\n",
    "\n",
    "def softmax(Z):\n",
    "    expZ = np.exp(Z - np.max(Z, axis=0, keepdims=True))\n",
    "    return expZ / expZ.sum(axis=0, keepdims=True)\n",
    "\n",
    "# Forward propagation\n",
    "def forward_prop(W1, b1, W2, b2, X):\n",
    "    Z1 = W1.dot(X) + b1\n",
    "    A1 = ReLU(Z1)\n",
    "    Z2 = W2.dot(A1) + b2\n",
    "    A2 = softmax(Z2)\n",
    "    return Z1, A1, Z2, A2\n",
    "\n",
    "# Derivatives for backpropagation\n",
    "def ReLU_deriv(Z):\n",
    "    return Z > 0\n",
    "\n",
    "def one_hot(Y):\n",
    "    one_hot_Y = np.zeros((Y.size, Y.max() + 1))\n",
    "    one_hot_Y[np.arange(Y.size), Y] = 1\n",
    "    return one_hot_Y.T\n",
    "\n",
    "def backward_prop(Z1, A1, Z2, A2, W1, W2, X, Y):\n",
    "    one_hot_Y = one_hot(Y)\n",
    "    dZ2 = A2 - one_hot_Y\n",
    "    dW2 = 1 / m_train * dZ2.dot(A1.T)\n",
    "    db2 = 1 / m_train * np.sum(dZ2, axis=1, keepdims=True)\n",
    "    dZ1 = W2.T.dot(dZ2) * ReLU_deriv(Z1)\n",
    "    dW1 = 1 / m_train * dZ1.dot(X.T)\n",
    "    db1 = 1 / m_train * np.sum(dZ1, axis=1, keepdims=True)\n",
    "    return dW1, db1, dW2, db2\n",
    "\n",
    "# Update parameters\n",
    "def update_params(W1, b1, W2, b2, dW1, db1, dW2, db2, alpha):\n",
    "    W1 -= alpha * dW1\n",
    "    b1 -= alpha * db1    \n",
    "    W2 -= alpha * dW2  \n",
    "    b2 -= alpha * db2    \n",
    "    return W1, b1, W2, b2\n",
    "\n",
    "# Helper functions for predictions and accuracy\n",
    "def get_predictions(A2):\n",
    "    return np.argmax(A2, axis=0)\n",
    "\n",
    "def get_accuracy(predictions, Y):\n",
    "    return np.mean(predictions == Y)\n",
    "\n",
    "def make_predictions(X, W1, b1, W2, b2):\n",
    "    _, _, _, A2 = forward_prop(W1, b1, W2, b2, X)\n",
    "    return get_predictions(A2)\n",
    "\n",
    "def test_prediction(index, X, Y, W1, b1, W2, b2):\n",
    "    current_image = X[:, index, None]\n",
    "    prediction = make_predictions(current_image, W1, b1, W2, b2)\n",
    "    label = Y[index]\n",
    "    print(\"Prediction: \", prediction[0])\n",
    "    print(\"Label: \", label)\n",
    "    \n",
    "    current_image = current_image.reshape((28, 28)) * 255\n",
    "    plt.gray()\n",
    "    plt.imshow(current_image, interpolation='nearest')\n",
    "    plt.show()\n",
    "\n",
    "# Gradient descent with accuracy tracking\n",
    "def gradient_descent(X, Y, X_dev, Y_dev, alpha, iterations):\n",
    "    W1, b1, W2, b2 = init_params()\n",
    "    train_accuracies = []\n",
    "    dev_accuracies = []\n",
    "    iterations_list = []\n",
    "\n",
    "    for i in range(iterations):\n",
    "        Z1, A1, Z2, A2 = forward_prop(W1, b1, W2, b2, X)\n",
    "        dW1, db1, dW2, db2 = backward_prop(Z1, A1, Z2, A2, W1, W2, X, Y)\n",
    "        W1, b1, W2, b2 = update_params(W1, b1, W2, b2, dW1, db1, dW2, db2, alpha)\n",
    "        \n",
    "        if i % 100 == 0:\n",
    "            # Track accuracy for training and development sets\n",
    "            train_accuracy = get_accuracy(get_predictions(A2), Y)\n",
    "            dev_accuracy = get_accuracy(make_predictions(X_dev, W1, b1, W2, b2), Y_dev)\n",
    "            \n",
    "            train_accuracies.append(train_accuracy)\n",
    "            dev_accuracies.append(dev_accuracy)\n",
    "            iterations_list.append(i)\n",
    "            \n",
    "            print(f\"Iteration {i}: Training Accuracy = {train_accuracy:.4f}, Development Accuracy = {dev_accuracy:.4f}\")\n",
    "    \n",
    "    return W1, b1, W2, b2, train_accuracies, dev_accuracies, iterations_list\n",
    "\n",
    "# Train the model and track accuracies\n",
    "W1, b1, W2, b2, train_accuracies, dev_accuracies, iterations_list = gradient_descent(\n",
    "    X_train, Y_train, X_dev, Y_dev, alpha=0.10, iterations=1000\n",
    ")\n",
    "\n",
    "# Plot training and development accuracies\n",
    "plt.figure(figsize=(12, 6))\n",
    "plt.plot(iterations_list, train_accuracies, label=\"Training Accuracy\", marker='o')\n",
    "plt.plot(iterations_list, dev_accuracies, label=\"Development Accuracy\", marker='x')\n",
    "plt.title(\"Accuracy Over Iterations\")\n",
    "plt.xlabel(\"Iterations\")\n",
    "plt.ylabel(\"Accuracy\")\n",
    "plt.legend()\n",
    "plt.grid(True)\n",
    "plt.show()\n",
    "\"\"\""
   ]
  }
 ],
 "metadata": {
  "kaggle": {
   "accelerator": "none",
   "dataSources": [
    {
     "databundleVersionId": 861823,
     "sourceId": 3004,
     "sourceType": "competition"
    }
   ],
   "dockerImageVersionId": 30786,
   "isGpuEnabled": false,
   "isInternetEnabled": false,
   "language": "python",
   "sourceType": "notebook"
  },
  "kernelspec": {
   "display_name": "Python 3",
   "language": "python",
   "name": "python3"
  },
  "language_info": {
   "codemirror_mode": {
    "name": "ipython",
    "version": 3
   },
   "file_extension": ".py",
   "mimetype": "text/x-python",
   "name": "python",
   "nbconvert_exporter": "python",
   "pygments_lexer": "ipython3",
   "version": "3.11.2"
  }
 },
 "nbformat": 4,
 "nbformat_minor": 4
}
