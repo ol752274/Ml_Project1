{
 "cells": [
  {
   "cell_type": "code",
   "execution_count": 1,
   "metadata": {
    "_cell_guid": "b1076dfc-b9ad-4769-8c92-a6c4dae69d19",
    "_uuid": "8f2839f25d086af736a60e9eeb907d3b93b6e0e5",
    "editable": false,
    "execution": {
     "iopub.execute_input": "2024-11-28T18:29:23.060964Z",
     "iopub.status.busy": "2024-11-28T18:29:23.060554Z",
     "iopub.status.idle": "2024-11-28T18:29:23.479349Z",
     "shell.execute_reply": "2024-11-28T18:29:23.477966Z",
     "shell.execute_reply.started": "2024-11-28T18:29:23.060929Z"
    },
    "trusted": true
   },
   "outputs": [],
   "source": [
    "import numpy as np\n",
    "import pandas as pd\n",
    "from matplotlib import pyplot as plt"
   ]
  },
  {
   "cell_type": "code",
   "execution_count": 2,
   "metadata": {
    "editable": false,
    "execution": {
     "iopub.execute_input": "2024-11-28T18:29:28.144791Z",
     "iopub.status.busy": "2024-11-28T18:29:28.144257Z",
     "iopub.status.idle": "2024-11-28T18:29:31.579201Z",
     "shell.execute_reply": "2024-11-28T18:29:31.577763Z",
     "shell.execute_reply.started": "2024-11-28T18:29:28.144755Z"
    },
    "trusted": true
   },
   "outputs": [],
   "source": [
    "data = pd.read_csv('dataset.csv')"
   ]
  },
  {
   "cell_type": "code",
   "execution_count": 3,
   "metadata": {
    "editable": false,
    "execution": {
     "iopub.execute_input": "2024-11-28T18:30:42.334347Z",
     "iopub.status.busy": "2024-11-28T18:30:42.333925Z",
     "iopub.status.idle": "2024-11-28T18:30:42.364388Z",
     "shell.execute_reply": "2024-11-28T18:30:42.363209Z",
     "shell.execute_reply.started": "2024-11-28T18:30:42.334288Z"
    },
    "trusted": true
   },
   "outputs": [
    {
     "data": {
      "text/html": [
       "<div>\n",
       "<style scoped>\n",
       "    .dataframe tbody tr th:only-of-type {\n",
       "        vertical-align: middle;\n",
       "    }\n",
       "\n",
       "    .dataframe tbody tr th {\n",
       "        vertical-align: top;\n",
       "    }\n",
       "\n",
       "    .dataframe thead th {\n",
       "        text-align: right;\n",
       "    }\n",
       "</style>\n",
       "<table border=\"1\" class=\"dataframe\">\n",
       "  <thead>\n",
       "    <tr style=\"text-align: right;\">\n",
       "      <th></th>\n",
       "      <th>label</th>\n",
       "      <th>pixel0</th>\n",
       "      <th>pixel1</th>\n",
       "      <th>pixel2</th>\n",
       "      <th>pixel3</th>\n",
       "      <th>pixel4</th>\n",
       "      <th>pixel5</th>\n",
       "      <th>pixel6</th>\n",
       "      <th>pixel7</th>\n",
       "      <th>pixel8</th>\n",
       "      <th>...</th>\n",
       "      <th>pixel774</th>\n",
       "      <th>pixel775</th>\n",
       "      <th>pixel776</th>\n",
       "      <th>pixel777</th>\n",
       "      <th>pixel778</th>\n",
       "      <th>pixel779</th>\n",
       "      <th>pixel780</th>\n",
       "      <th>pixel781</th>\n",
       "      <th>pixel782</th>\n",
       "      <th>pixel783</th>\n",
       "    </tr>\n",
       "  </thead>\n",
       "  <tbody>\n",
       "    <tr>\n",
       "      <th>0</th>\n",
       "      <td>0</td>\n",
       "      <td>0</td>\n",
       "      <td>0</td>\n",
       "      <td>0</td>\n",
       "      <td>0</td>\n",
       "      <td>0</td>\n",
       "      <td>0</td>\n",
       "      <td>0</td>\n",
       "      <td>0</td>\n",
       "      <td>1</td>\n",
       "      <td>...</td>\n",
       "      <td>0</td>\n",
       "      <td>0</td>\n",
       "      <td>0</td>\n",
       "      <td>0</td>\n",
       "      <td>0</td>\n",
       "      <td>0</td>\n",
       "      <td>0</td>\n",
       "      <td>0</td>\n",
       "      <td>0</td>\n",
       "      <td>0</td>\n",
       "    </tr>\n",
       "    <tr>\n",
       "      <th>1</th>\n",
       "      <td>0</td>\n",
       "      <td>0</td>\n",
       "      <td>0</td>\n",
       "      <td>0</td>\n",
       "      <td>0</td>\n",
       "      <td>0</td>\n",
       "      <td>0</td>\n",
       "      <td>0</td>\n",
       "      <td>0</td>\n",
       "      <td>0</td>\n",
       "      <td>...</td>\n",
       "      <td>0</td>\n",
       "      <td>0</td>\n",
       "      <td>0</td>\n",
       "      <td>0</td>\n",
       "      <td>0</td>\n",
       "      <td>0</td>\n",
       "      <td>0</td>\n",
       "      <td>0</td>\n",
       "      <td>0</td>\n",
       "      <td>0</td>\n",
       "    </tr>\n",
       "    <tr>\n",
       "      <th>2</th>\n",
       "      <td>0</td>\n",
       "      <td>0</td>\n",
       "      <td>0</td>\n",
       "      <td>0</td>\n",
       "      <td>0</td>\n",
       "      <td>0</td>\n",
       "      <td>0</td>\n",
       "      <td>0</td>\n",
       "      <td>0</td>\n",
       "      <td>0</td>\n",
       "      <td>...</td>\n",
       "      <td>0</td>\n",
       "      <td>0</td>\n",
       "      <td>0</td>\n",
       "      <td>0</td>\n",
       "      <td>0</td>\n",
       "      <td>0</td>\n",
       "      <td>0</td>\n",
       "      <td>0</td>\n",
       "      <td>0</td>\n",
       "      <td>0</td>\n",
       "    </tr>\n",
       "    <tr>\n",
       "      <th>3</th>\n",
       "      <td>0</td>\n",
       "      <td>0</td>\n",
       "      <td>0</td>\n",
       "      <td>0</td>\n",
       "      <td>0</td>\n",
       "      <td>0</td>\n",
       "      <td>0</td>\n",
       "      <td>0</td>\n",
       "      <td>0</td>\n",
       "      <td>0</td>\n",
       "      <td>...</td>\n",
       "      <td>1</td>\n",
       "      <td>1</td>\n",
       "      <td>0</td>\n",
       "      <td>0</td>\n",
       "      <td>0</td>\n",
       "      <td>0</td>\n",
       "      <td>0</td>\n",
       "      <td>0</td>\n",
       "      <td>0</td>\n",
       "      <td>0</td>\n",
       "    </tr>\n",
       "    <tr>\n",
       "      <th>4</th>\n",
       "      <td>0</td>\n",
       "      <td>0</td>\n",
       "      <td>0</td>\n",
       "      <td>0</td>\n",
       "      <td>0</td>\n",
       "      <td>0</td>\n",
       "      <td>0</td>\n",
       "      <td>0</td>\n",
       "      <td>0</td>\n",
       "      <td>0</td>\n",
       "      <td>...</td>\n",
       "      <td>0</td>\n",
       "      <td>0</td>\n",
       "      <td>0</td>\n",
       "      <td>0</td>\n",
       "      <td>0</td>\n",
       "      <td>0</td>\n",
       "      <td>0</td>\n",
       "      <td>0</td>\n",
       "      <td>0</td>\n",
       "      <td>0</td>\n",
       "    </tr>\n",
       "  </tbody>\n",
       "</table>\n",
       "<p>5 rows × 785 columns</p>\n",
       "</div>"
      ],
      "text/plain": [
       "   label  pixel0  pixel1  pixel2  pixel3  pixel4  pixel5  pixel6  pixel7  \\\n",
       "0      0       0       0       0       0       0       0       0       0   \n",
       "1      0       0       0       0       0       0       0       0       0   \n",
       "2      0       0       0       0       0       0       0       0       0   \n",
       "3      0       0       0       0       0       0       0       0       0   \n",
       "4      0       0       0       0       0       0       0       0       0   \n",
       "\n",
       "   pixel8  ...  pixel774  pixel775  pixel776  pixel777  pixel778  pixel779  \\\n",
       "0       1  ...         0         0         0         0         0         0   \n",
       "1       0  ...         0         0         0         0         0         0   \n",
       "2       0  ...         0         0         0         0         0         0   \n",
       "3       0  ...         1         1         0         0         0         0   \n",
       "4       0  ...         0         0         0         0         0         0   \n",
       "\n",
       "   pixel780  pixel781  pixel782  pixel783  \n",
       "0         0         0         0         0  \n",
       "1         0         0         0         0  \n",
       "2         0         0         0         0  \n",
       "3         0         0         0         0  \n",
       "4         0         0         0         0  \n",
       "\n",
       "[5 rows x 785 columns]"
      ]
     },
     "execution_count": 3,
     "metadata": {},
     "output_type": "execute_result"
    }
   ],
   "source": [
    "data.head()"
   ]
  },
  {
   "cell_type": "code",
   "execution_count": 4,
   "metadata": {
    "editable": false,
    "execution": {
     "iopub.execute_input": "2024-11-28T20:08:31.020003Z",
     "iopub.status.busy": "2024-11-28T20:08:31.019601Z",
     "iopub.status.idle": "2024-11-28T20:08:31.855629Z",
     "shell.execute_reply": "2024-11-28T20:08:31.854440Z",
     "shell.execute_reply.started": "2024-11-28T20:08:31.019966Z"
    },
    "trusted": true
   },
   "outputs": [],
   "source": [
    "data = np.array(data)\n",
    "m, n = data.shape\n",
    "np.random.shuffle(data) # shuffle before splitting into dev and training sets\n",
    "\n",
    "data_dev = data[0:1000].T\n",
    "Y_dev = data_dev[0]\n",
    "X_dev = data_dev[1:n]\n",
    "X_dev = X_dev / 255.\n",
    "\n",
    "data_train = data[1000:m].T\n",
    "Y_train = data_train[0]\n",
    "X_train = data_train[1:n]\n",
    "X_train = X_train / 255.\n",
    "_,m_train = X_train.shape"
   ]
  },
  {
   "cell_type": "code",
   "execution_count": 5,
   "metadata": {
    "editable": false,
    "execution": {
     "iopub.execute_input": "2024-11-28T20:10:43.725985Z",
     "iopub.status.busy": "2024-11-28T20:10:43.725546Z",
     "iopub.status.idle": "2024-11-28T20:10:43.738215Z",
     "shell.execute_reply": "2024-11-28T20:10:43.736911Z",
     "shell.execute_reply.started": "2024-11-28T20:10:43.725944Z"
    },
    "trusted": true
   },
   "outputs": [],
   "source": [
    "def init_params():\n",
    "    W1 = np.random.rand(10, 784) - 0.5\n",
    "    b1 = np.random.rand(10, 1) - 0.5\n",
    "    W2 = np.random.rand(10, 10) - 0.5\n",
    "    b2 = np.random.rand(10, 1) - 0.5\n",
    "    return W1, b1, W2, b2\n",
    "\n",
    "def ReLU(Z):\n",
    "    return np.maximum(Z, 0)\n",
    "\n",
    "def softmax(Z):\n",
    "    A = np.exp(Z) / sum(np.exp(Z))\n",
    "    return A\n",
    "    \n",
    "def forward_prop(W1, b1, W2, b2, X):\n",
    "    Z1 = W1.dot(X) + b1\n",
    "    A1 = ReLU(Z1)\n",
    "    Z2 = W2.dot(A1) + b2\n",
    "    A2 = softmax(Z2)\n",
    "    return Z1, A1, Z2, A2\n",
    "\n",
    "\n",
    "def ReLU_deriv(Z):\n",
    "    return Z > 0\n",
    "\n",
    "def one_hot(Y):\n",
    "    one_hot_Y = np.zeros((Y.size, Y.max() + 1))\n",
    "    one_hot_Y[np.arange(Y.size), Y] = 1\n",
    "    one_hot_Y = one_hot_Y.T\n",
    "    return one_hot_Y\n",
    "\n",
    "def backward_prop(Z1, A1, Z2, A2, W1, W2, X, Y):\n",
    "    one_hot_Y = one_hot(Y)\n",
    "    dZ2 = A2 - one_hot_Y\n",
    "    dW2 = 1 / m * dZ2.dot(A1.T)\n",
    "    db2 = 1 / m * np.sum(dZ2)\n",
    "    dZ1 = W2.T.dot(dZ2) * ReLU_deriv(Z1)\n",
    "    dW1 = 1 / m * dZ1.dot(X.T)\n",
    "    db1 = 1 / m * np.sum(dZ1)\n",
    "    return dW1, db1, dW2, db2\n",
    "\n",
    "def update_params(W1, b1, W2, b2, dW1, db1, dW2, db2, alpha):\n",
    "    W1 = W1 - alpha * dW1\n",
    "    b1 = b1 - alpha * db1    \n",
    "    W2 = W2 - alpha * dW2  \n",
    "    b2 = b2 - alpha * db2    \n",
    "    return W1, b1, W2, b2"
   ]
  },
  {
   "cell_type": "code",
   "execution_count": 6,
   "metadata": {
    "editable": false,
    "execution": {
     "iopub.execute_input": "2024-11-28T20:11:08.485260Z",
     "iopub.status.busy": "2024-11-28T20:11:08.484839Z",
     "iopub.status.idle": "2024-11-28T20:11:08.493812Z",
     "shell.execute_reply": "2024-11-28T20:11:08.492422Z",
     "shell.execute_reply.started": "2024-11-28T20:11:08.485221Z"
    },
    "trusted": true
   },
   "outputs": [],
   "source": [
    "def get_predictions(A2):\n",
    "    return np.argmax(A2, 0)\n",
    "\n",
    "def get_accuracy(predictions, Y):\n",
    "    print(predictions, Y)\n",
    "    return np.sum(predictions == Y) / Y.size\n",
    "\n",
    "def gradient_descent(X, Y, alpha, iterations):\n",
    "    W1, b1, W2, b2 = init_params()\n",
    "    for i in range(iterations):\n",
    "        Z1, A1, Z2, A2 = forward_prop(W1, b1, W2, b2, X)\n",
    "        dW1, db1, dW2, db2 = backward_prop(Z1, A1, Z2, A2, W1, W2, X, Y)\n",
    "        W1, b1, W2, b2 = update_params(W1, b1, W2, b2, dW1, db1, dW2, db2, alpha)\n",
    "        if i % 10 == 0:\n",
    "            print(\"Iteration: \", i)\n",
    "            predictions = get_predictions(A2)\n",
    "            print(get_accuracy(predictions, Y))\n",
    "    return W1, b1, W2, b2"
   ]
  },
  {
   "cell_type": "code",
   "execution_count": 7,
   "metadata": {
    "editable": false,
    "execution": {
     "iopub.execute_input": "2024-11-28T20:11:29.232894Z",
     "iopub.status.busy": "2024-11-28T20:11:29.232466Z",
     "iopub.status.idle": "2024-11-28T20:12:30.314157Z",
     "shell.execute_reply": "2024-11-28T20:12:30.312791Z",
     "shell.execute_reply.started": "2024-11-28T20:11:29.232856Z"
    },
    "trusted": true
   },
   "outputs": [
    {
     "name": "stdout",
     "output_type": "stream",
     "text": [
      "Iteration:  0\n",
      "[1 1 1 1 1 1 1 1 1 1 1 1 1 1] [1 9 7 6 6 3 9 9 9 2 9 3 2 2]\n",
      "0.07142857142857142\n",
      "Iteration:  10\n",
      "[1 1 1 1 1 1 1 1 1 1 1 1 1 1] [1 9 7 6 6 3 9 9 9 2 9 3 2 2]\n",
      "0.07142857142857142\n",
      "Iteration:  20\n",
      "[1 1 1 1 1 1 1 1 1 1 1 1 1 1] [1 9 7 6 6 3 9 9 9 2 9 3 2 2]\n",
      "0.07142857142857142\n",
      "Iteration:  30\n",
      "[1 1 1 1 1 1 1 1 1 1 1 1 1 1] [1 9 7 6 6 3 9 9 9 2 9 3 2 2]\n",
      "0.07142857142857142\n",
      "Iteration:  40\n",
      "[1 1 1 1 1 1 1 1 1 1 1 1 1 1] [1 9 7 6 6 3 9 9 9 2 9 3 2 2]\n",
      "0.07142857142857142\n",
      "Iteration:  50\n",
      "[1 1 1 1 1 1 1 1 1 1 1 1 1 1] [1 9 7 6 6 3 9 9 9 2 9 3 2 2]\n",
      "0.07142857142857142\n",
      "Iteration:  60\n",
      "[1 1 1 1 1 1 1 1 1 1 1 1 1 1] [1 9 7 6 6 3 9 9 9 2 9 3 2 2]\n",
      "0.07142857142857142\n",
      "Iteration:  70\n",
      "[1 1 1 1 1 1 1 1 1 1 1 1 1 1] [1 9 7 6 6 3 9 9 9 2 9 3 2 2]\n",
      "0.07142857142857142\n",
      "Iteration:  80\n",
      "[1 1 1 1 1 1 1 1 1 1 1 1 1 1] [1 9 7 6 6 3 9 9 9 2 9 3 2 2]\n",
      "0.07142857142857142\n",
      "Iteration:  90\n",
      "[1 1 1 1 1 1 1 1 1 1 1 1 1 1] [1 9 7 6 6 3 9 9 9 2 9 3 2 2]\n",
      "0.07142857142857142\n",
      "Iteration:  100\n",
      "[1 1 1 1 1 1 1 1 1 1 1 1 1 1] [1 9 7 6 6 3 9 9 9 2 9 3 2 2]\n",
      "0.07142857142857142\n",
      "Iteration:  110\n",
      "[1 1 1 1 1 1 1 1 1 1 1 1 1 1] [1 9 7 6 6 3 9 9 9 2 9 3 2 2]\n",
      "0.07142857142857142\n",
      "Iteration:  120\n",
      "[1 1 1 1 1 1 1 1 1 1 1 1 1 1] [1 9 7 6 6 3 9 9 9 2 9 3 2 2]\n",
      "0.07142857142857142\n",
      "Iteration:  130\n",
      "[1 1 1 1 1 1 1 1 1 1 1 1 1 1] [1 9 7 6 6 3 9 9 9 2 9 3 2 2]\n",
      "0.07142857142857142\n",
      "Iteration:  140\n",
      "[1 1 1 1 1 1 1 1 1 1 1 1 1 1] [1 9 7 6 6 3 9 9 9 2 9 3 2 2]\n",
      "0.07142857142857142\n",
      "Iteration:  150\n",
      "[1 1 1 1 1 1 1 1 1 1 1 1 1 1] [1 9 7 6 6 3 9 9 9 2 9 3 2 2]\n",
      "0.07142857142857142\n",
      "Iteration:  160\n",
      "[1 1 1 1 1 1 1 1 1 1 1 1 1 1] [1 9 7 6 6 3 9 9 9 2 9 3 2 2]\n",
      "0.07142857142857142\n",
      "Iteration:  170\n",
      "[1 1 1 1 1 1 1 1 1 1 1 1 1 1] [1 9 7 6 6 3 9 9 9 2 9 3 2 2]\n",
      "0.07142857142857142\n",
      "Iteration:  180\n",
      "[1 1 1 1 1 1 1 1 1 1 1 1 1 1] [1 9 7 6 6 3 9 9 9 2 9 3 2 2]\n",
      "0.07142857142857142\n",
      "Iteration:  190\n",
      "[1 1 1 1 1 1 1 1 1 1 1 1 1 1] [1 9 7 6 6 3 9 9 9 2 9 3 2 2]\n",
      "0.07142857142857142\n",
      "Iteration:  200\n",
      "[1 1 1 1 1 1 1 1 1 1 1 1 1 1] [1 9 7 6 6 3 9 9 9 2 9 3 2 2]\n",
      "0.07142857142857142\n",
      "Iteration:  210\n",
      "[1 1 1 1 1 1 1 1 1 1 1 1 1 1] [1 9 7 6 6 3 9 9 9 2 9 3 2 2]\n",
      "0.07142857142857142\n",
      "Iteration:  220\n",
      "[1 1 1 1 1 1 1 1 1 1 1 1 1 1] [1 9 7 6 6 3 9 9 9 2 9 3 2 2]\n",
      "0.07142857142857142\n",
      "Iteration:  230\n",
      "[1 1 1 1 1 1 1 1 1 1 1 1 1 1] [1 9 7 6 6 3 9 9 9 2 9 3 2 2]\n",
      "0.07142857142857142\n",
      "Iteration:  240\n",
      "[1 1 1 1 1 1 1 1 1 1 1 1 1 1] [1 9 7 6 6 3 9 9 9 2 9 3 2 2]\n",
      "0.07142857142857142\n",
      "Iteration:  250\n",
      "[1 1 1 1 1 1 1 1 1 1 1 1 1 1] [1 9 7 6 6 3 9 9 9 2 9 3 2 2]\n",
      "0.07142857142857142\n",
      "Iteration:  260\n",
      "[1 1 1 1 1 1 1 1 1 1 1 1 1 1] [1 9 7 6 6 3 9 9 9 2 9 3 2 2]\n",
      "0.07142857142857142\n",
      "Iteration:  270\n",
      "[1 1 1 1 1 1 1 1 1 1 1 1 1 1] [1 9 7 6 6 3 9 9 9 2 9 3 2 2]\n",
      "0.07142857142857142\n",
      "Iteration:  280\n",
      "[1 1 1 1 1 1 1 1 1 1 1 1 1 1] [1 9 7 6 6 3 9 9 9 2 9 3 2 2]\n",
      "0.07142857142857142\n",
      "Iteration:  290\n",
      "[1 1 1 1 1 1 1 1 1 1 1 1 1 1] [1 9 7 6 6 3 9 9 9 2 9 3 2 2]\n",
      "0.07142857142857142\n",
      "Iteration:  300\n",
      "[1 1 1 1 1 1 1 1 1 1 1 1 1 1] [1 9 7 6 6 3 9 9 9 2 9 3 2 2]\n",
      "0.07142857142857142\n",
      "Iteration:  310\n",
      "[1 1 1 9 1 9 9 9 9 9 9 1 1 9] [1 9 7 6 6 3 9 9 9 2 9 3 2 2]\n",
      "0.35714285714285715\n",
      "Iteration:  320\n",
      "[9 9 1 9 9 9 9 9 9 9 9 9 9 9] [1 9 7 6 6 3 9 9 9 2 9 3 2 2]\n",
      "0.35714285714285715\n",
      "Iteration:  330\n",
      "[9 9 9 9 9 9 9 9 9 9 9 9 9 9] [1 9 7 6 6 3 9 9 9 2 9 3 2 2]\n",
      "0.35714285714285715\n",
      "Iteration:  340\n",
      "[9 9 9 9 9 9 9 9 9 9 9 9 9 9] [1 9 7 6 6 3 9 9 9 2 9 3 2 2]\n",
      "0.35714285714285715\n",
      "Iteration:  350\n",
      "[9 9 9 9 9 9 9 9 9 9 9 9 9 9] [1 9 7 6 6 3 9 9 9 2 9 3 2 2]\n",
      "0.35714285714285715\n",
      "Iteration:  360\n",
      "[9 9 9 9 9 9 9 9 9 9 9 9 9 9] [1 9 7 6 6 3 9 9 9 2 9 3 2 2]\n",
      "0.35714285714285715\n",
      "Iteration:  370\n",
      "[9 9 9 9 9 9 9 9 9 9 9 9 9 9] [1 9 7 6 6 3 9 9 9 2 9 3 2 2]\n",
      "0.35714285714285715\n",
      "Iteration:  380\n",
      "[9 9 9 9 9 9 9 9 9 9 9 9 9 9] [1 9 7 6 6 3 9 9 9 2 9 3 2 2]\n",
      "0.35714285714285715\n",
      "Iteration:  390\n",
      "[9 9 9 9 9 9 9 9 9 9 9 9 9 9] [1 9 7 6 6 3 9 9 9 2 9 3 2 2]\n",
      "0.35714285714285715\n",
      "Iteration:  400\n",
      "[9 9 9 9 9 9 9 9 9 9 9 9 9 9] [1 9 7 6 6 3 9 9 9 2 9 3 2 2]\n",
      "0.35714285714285715\n",
      "Iteration:  410\n",
      "[9 9 9 9 9 9 9 9 9 9 9 9 9 9] [1 9 7 6 6 3 9 9 9 2 9 3 2 2]\n",
      "0.35714285714285715\n",
      "Iteration:  420\n",
      "[9 9 9 9 9 9 9 9 9 9 9 9 9 9] [1 9 7 6 6 3 9 9 9 2 9 3 2 2]\n",
      "0.35714285714285715\n",
      "Iteration:  430\n",
      "[9 9 9 9 9 9 9 9 9 9 9 9 9 9] [1 9 7 6 6 3 9 9 9 2 9 3 2 2]\n",
      "0.35714285714285715\n",
      "Iteration:  440\n",
      "[9 9 9 9 9 9 9 9 9 9 9 9 9 9] [1 9 7 6 6 3 9 9 9 2 9 3 2 2]\n",
      "0.35714285714285715\n",
      "Iteration:  450\n",
      "[9 9 9 9 9 9 9 9 9 9 9 9 9 9] [1 9 7 6 6 3 9 9 9 2 9 3 2 2]\n",
      "0.35714285714285715\n",
      "Iteration:  460\n",
      "[9 9 9 9 9 9 9 9 9 9 9 9 9 9] [1 9 7 6 6 3 9 9 9 2 9 3 2 2]\n",
      "0.35714285714285715\n",
      "Iteration:  470\n",
      "[9 9 9 9 9 9 9 9 9 9 9 9 9 9] [1 9 7 6 6 3 9 9 9 2 9 3 2 2]\n",
      "0.35714285714285715\n",
      "Iteration:  480\n",
      "[9 9 9 9 9 9 9 9 9 9 9 9 9 9] [1 9 7 6 6 3 9 9 9 2 9 3 2 2]\n",
      "0.35714285714285715\n",
      "Iteration:  490\n",
      "[9 9 9 9 9 9 9 9 9 9 9 9 9 9] [1 9 7 6 6 3 9 9 9 2 9 3 2 2]\n",
      "0.35714285714285715\n"
     ]
    }
   ],
   "source": [
    "W1, b1, W2, b2 = gradient_descent(X_train, Y_train, 0.10, 500)"
   ]
  },
  {
   "cell_type": "code",
   "execution_count": 8,
   "metadata": {
    "editable": false,
    "execution": {
     "iopub.execute_input": "2024-11-28T20:18:24.823878Z",
     "iopub.status.busy": "2024-11-28T20:18:24.823446Z",
     "iopub.status.idle": "2024-11-28T20:18:24.831854Z",
     "shell.execute_reply": "2024-11-28T20:18:24.830622Z",
     "shell.execute_reply.started": "2024-11-28T20:18:24.823839Z"
    },
    "trusted": true
   },
   "outputs": [],
   "source": [
    "def make_predictions(X, W1, b1, W2, b2):\n",
    "    _, _, _, A2 = forward_prop(W1, b1, W2, b2, X)\n",
    "    predictions = get_predictions(A2)\n",
    "    return predictions\n",
    "\n",
    "def test_prediction(index, W1, b1, W2, b2):\n",
    "    current_image = X_train[:, index, None]\n",
    "    prediction = make_predictions(X_train[:, index, None], W1, b1, W2, b2)\n",
    "    label = Y_train[index]\n",
    "    print(\"Prediction: \", prediction)\n",
    "    print(\"Label: \", label)\n",
    "    \n",
    "    current_image = current_image.reshape((28, 28)) * 255\n",
    "    plt.gray()\n",
    "    plt.imshow(current_image, interpolation='nearest')\n",
    "    plt.show()"
   ]
  },
  {
   "cell_type": "code",
   "execution_count": 9,
   "metadata": {
    "editable": false,
    "execution": {
     "iopub.execute_input": "2024-11-28T20:19:03.870095Z",
     "iopub.status.busy": "2024-11-28T20:19:03.869693Z",
     "iopub.status.idle": "2024-11-28T20:19:04.154840Z",
     "shell.execute_reply": "2024-11-28T20:19:04.153431Z",
     "shell.execute_reply.started": "2024-11-28T20:19:03.870060Z"
    },
    "trusted": true
   },
   "outputs": [
    {
     "name": "stdout",
     "output_type": "stream",
     "text": [
      "Prediction:  [9]\n",
      "Label:  1\n"
     ]
    },
    {
     "data": {
      "image/png": "[encoded data removed]",
      "text/plain": [
       "<Figure size 640x480 with 1 Axes>"
      ]
     },
     "metadata": {},
     "output_type": "display_data"
    }
   ],
   "source": [
    "test_prediction(0, W1, b1, W2, b2)"
   ]
  },
  {
   "cell_type": "code",
   "execution_count": 10,
   "metadata": {
    "editable": false,
    "execution": {
     "iopub.execute_input": "2024-11-28T20:19:20.934065Z",
     "iopub.status.busy": "2024-11-28T20:19:20.933709Z",
     "iopub.status.idle": "2024-11-28T20:19:21.183120Z",
     "shell.execute_reply": "2024-11-28T20:19:21.182005Z",
     "shell.execute_reply.started": "2024-11-28T20:19:20.934035Z"
    },
    "trusted": true
   },
   "outputs": [
    {
     "name": "stdout",
     "output_type": "stream",
     "text": [
      "Prediction:  [9]\n",
      "Label:  9\n"
     ]
    },
    {
     "data": {
      "image/png": "[encoded data removed]",
      "text/plain": [
       "<Figure size 640x480 with 1 Axes>"
      ]
     },
     "metadata": {},
     "output_type": "display_data"
    }
   ],
   "source": [
    "test_prediction(1, W1, b1, W2, b2)"
   ]
  },
  {
   "cell_type": "code",
   "execution_count": 11,
   "metadata": {
    "editable": false,
    "execution": {
     "iopub.execute_input": "2024-11-28T20:19:30.768026Z",
     "iopub.status.busy": "2024-11-28T20:19:30.767475Z",
     "iopub.status.idle": "2024-11-28T20:19:31.003848Z",
     "shell.execute_reply": "2024-11-28T20:19:31.002565Z",
     "shell.execute_reply.started": "2024-11-28T20:19:30.767968Z"
    },
    "trusted": true
   },
   "outputs": [
    {
     "name": "stdout",
     "output_type": "stream",
     "text": [
      "Prediction:  [9]\n",
      "Label:  7\n"
     ]
    },
    {
     "data": {
      "image/png": "[encoded data removed]",
      "text/plain": [
       "<Figure size 640x480 with 1 Axes>"
      ]
     },
     "metadata": {},
     "output_type": "display_data"
    }
   ],
   "source": [
    "test_prediction(2, W1, b1, W2, b2)"
   ]
  },
  {
   "cell_type": "code",
   "execution_count": 12,
   "metadata": {
    "editable": false,
    "execution": {
     "iopub.execute_input": "2024-11-28T20:19:39.612358Z",
     "iopub.status.busy": "2024-11-28T20:19:39.611200Z",
     "iopub.status.idle": "2024-11-28T20:19:39.774045Z",
     "shell.execute_reply": "2024-11-28T20:19:39.772930Z",
     "shell.execute_reply.started": "2024-11-28T20:19:39.612282Z"
    },
    "trusted": true
   },
   "outputs": [
    {
     "name": "stdout",
     "output_type": "stream",
     "text": [
      "Prediction:  [9]\n",
      "Label:  6\n"
     ]
    },
    {
     "data": {
      "image/png": "[encoded data removed]",
      "text/plain": [
       "<Figure size 640x480 with 1 Axes>"
      ]
     },
     "metadata": {},
     "output_type": "display_data"
    }
   ],
   "source": [
    "test_prediction(3, W1, b1, W2, b2)"
   ]
  },
  {
   "cell_type": "code",
   "execution_count": 14,
   "metadata": {
    "editable": false,
    "execution": {
     "iopub.execute_input": "2024-11-28T20:21:53.326844Z",
     "iopub.status.busy": "2024-11-28T20:21:53.326476Z",
     "iopub.status.idle": "2024-11-28T20:21:53.489549Z",
     "shell.execute_reply": "2024-11-28T20:21:53.488440Z",
     "shell.execute_reply.started": "2024-11-28T20:21:53.326811Z"
    },
    "trusted": true
   },
   "outputs": [
    {
     "ename": "IndexError",
     "evalue": "index 2340 is out of bounds for axis 1 with size 14",
     "output_type": "error",
     "traceback": [
      "\u001b[1;31m---------------------------------------------------------------------------\u001b[0m",
      "\u001b[1;31mIndexError\u001b[0m                                Traceback (most recent call last)",
      "Cell \u001b[1;32mIn[14], line 1\u001b[0m\n\u001b[1;32m----> 1\u001b[0m \u001b[43mtest_prediction\u001b[49m\u001b[43m(\u001b[49m\u001b[38;5;241;43m2340\u001b[39;49m\u001b[43m,\u001b[49m\u001b[43m \u001b[49m\u001b[43mW1\u001b[49m\u001b[43m,\u001b[49m\u001b[43m \u001b[49m\u001b[43mb1\u001b[49m\u001b[43m,\u001b[49m\u001b[43m \u001b[49m\u001b[43mW2\u001b[49m\u001b[43m,\u001b[49m\u001b[43m \u001b[49m\u001b[43mb2\u001b[49m\u001b[43m)\u001b[49m\n",
      "Cell \u001b[1;32mIn[8], line 7\u001b[0m, in \u001b[0;36mtest_prediction\u001b[1;34m(index, W1, b1, W2, b2)\u001b[0m\n\u001b[0;32m      6\u001b[0m \u001b[38;5;28;01mdef\u001b[39;00m \u001b[38;5;21mtest_prediction\u001b[39m(index, W1, b1, W2, b2):\n\u001b[1;32m----> 7\u001b[0m     current_image \u001b[38;5;241m=\u001b[39m \u001b[43mX_train\u001b[49m\u001b[43m[\u001b[49m\u001b[43m:\u001b[49m\u001b[43m,\u001b[49m\u001b[43m \u001b[49m\u001b[43mindex\u001b[49m\u001b[43m,\u001b[49m\u001b[43m \u001b[49m\u001b[38;5;28;43;01mNone\u001b[39;49;00m\u001b[43m]\u001b[49m\n\u001b[0;32m      8\u001b[0m     prediction \u001b[38;5;241m=\u001b[39m make_predictions(X_train[:, index, \u001b[38;5;28;01mNone\u001b[39;00m], W1, b1, W2, b2)\n\u001b[0;32m      9\u001b[0m     label \u001b[38;5;241m=\u001b[39m Y_train[index]\n",
      "\u001b[1;31mIndexError\u001b[0m: index 2340 is out of bounds for axis 1 with size 14"
     ]
    }
   ],
   "source": [
    "test_prediction(2340, W1, b1, W2, b2)"
   ]
  },
  {
   "cell_type": "code",
   "execution_count": null,
   "metadata": {},
   "outputs": [],
   "source": []
  }
 ],
 "metadata": {
  "kaggle": {
   "accelerator": "none",
   "dataSources": [
    {
     "databundleVersionId": 861823,
     "sourceId": 3004,
     "sourceType": "competition"
    }
   ],
   "isGpuEnabled": false,
   "isInternetEnabled": false,
   "language": "python",
   "sourceType": "notebook"
  },
  "kernelspec": {
   "display_name": "Python 3",
   "language": "python",
   "name": "python3"
  },
  "language_info": {
   "codemirror_mode": {
    "name": "ipython",
    "version": 3
   },
   "file_extension": ".py",
   "mimetype": "text/x-python",
   "name": "python",
   "nbconvert_exporter": "python",
   "pygments_lexer": "ipython3",
   "version": "3.11.2"
  }
 },
 "nbformat": 4,
 "nbformat_minor": 4
}
