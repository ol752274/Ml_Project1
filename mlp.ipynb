{
 "cells": [
  {
   "cell_type": "code",
   "execution_count": 18,
   "metadata": {
    "_cell_guid": "b1076dfc-b9ad-4769-8c92-a6c4dae69d19",
    "_uuid": "8f2839f25d086af736a60e9eeb907d3b93b6e0e5",
    "execution": {
     "iopub.execute_input": "2024-11-29T17:02:36.757536Z",
     "iopub.status.busy": "2024-11-29T17:02:36.757071Z",
     "iopub.status.idle": "2024-11-29T17:02:38.005661Z",
     "shell.execute_reply": "2024-11-29T17:02:38.004335Z",
     "shell.execute_reply.started": "2024-11-29T17:02:36.757499Z"
    },
    "trusted": true
   },
   "outputs": [],
   "source": [
    "import numpy as np\n",
    "import pandas as pd\n",
    "from matplotlib import pyplot as plt"
   ]
  },
  {
   "cell_type": "code",
   "execution_count": 19,
   "metadata": {
    "execution": {
     "iopub.execute_input": "2024-11-29T17:02:39.877294Z",
     "iopub.status.busy": "2024-11-29T17:02:39.876732Z",
     "iopub.status.idle": "2024-11-29T17:02:43.550352Z",
     "shell.execute_reply": "2024-11-29T17:02:43.549217Z",
     "shell.execute_reply.started": "2024-11-29T17:02:39.877224Z"
    },
    "trusted": true
   },
   "outputs": [],
   "source": [
    "\n",
    "data = pd.read_csv('train.csv')"
   ]
  },
  {
   "cell_type": "code",
   "execution_count": 20,
   "metadata": {
    "execution": {
     "iopub.execute_input": "2024-11-29T17:02:45.892053Z",
     "iopub.status.busy": "2024-11-29T17:02:45.891539Z",
     "iopub.status.idle": "2024-11-29T17:02:45.913337Z",
     "shell.execute_reply": "2024-11-29T17:02:45.911117Z",
     "shell.execute_reply.started": "2024-11-29T17:02:45.892012Z"
    },
    "trusted": true
   },
   "outputs": [],
   "source": [
    "\n",
    "if data.isnull().values.any():\n",
    "    print(\"Data contains null values. Cleaning...\")\n",
    "    data = data.dropna()"
   ]
  },
  {
   "cell_type": "code",
   "execution_count": 21,
   "metadata": {
    "execution": {
     "iopub.execute_input": "2024-11-29T17:03:01.142867Z",
     "iopub.status.busy": "2024-11-29T17:03:01.142213Z",
     "iopub.status.idle": "2024-11-29T17:03:02.082610Z",
     "shell.execute_reply": "2024-11-29T17:03:02.081019Z",
     "shell.execute_reply.started": "2024-11-29T17:03:01.142819Z"
    },
    "trusted": true
   },
   "outputs": [],
   "source": [
    "\n",
    "data = np.array(data)\n",
    "np.random.shuffle(data)"
   ]
  },
  {
   "cell_type": "code",
   "execution_count": 22,
   "metadata": {
    "execution": {
     "iopub.execute_input": "2024-11-29T14:56:53.233477Z",
     "iopub.status.busy": "2024-11-29T14:56:53.233061Z",
     "iopub.status.idle": "2024-11-29T14:56:53.357940Z",
     "shell.execute_reply": "2024-11-29T14:56:53.356512Z",
     "shell.execute_reply.started": "2024-11-29T14:56:53.233441Z"
    },
    "trusted": true
   },
   "outputs": [],
   "source": [
    "\n",
    "m, n = data.shape\n",
    "data_dev = data[:1000].T\n",
    "Y_dev = data_dev[0]\n",
    "X_dev = data_dev[1:]\n",
    "X_dev = X_dev / 255.0\n",
    "\n",
    "data_train = data[1000:].T\n",
    "Y_train = data_train[0]\n",
    "X_train = data_train[1:]\n",
    "X_train = X_train / 255.0\n",
    "_, m_train = X_train.shape"
   ]
  },
  {
   "cell_type": "code",
   "execution_count": 23,
   "metadata": {
    "execution": {
     "iopub.execute_input": "2024-11-29T14:56:56.050793Z",
     "iopub.status.busy": "2024-11-29T14:56:56.050406Z",
     "iopub.status.idle": "2024-11-29T14:56:56.722684Z",
     "shell.execute_reply": "2024-11-29T14:56:56.721448Z",
     "shell.execute_reply.started": "2024-11-29T14:56:56.050757Z"
    },
    "trusted": true
   },
   "outputs": [
    {
     "data": {
      "image/png": "[encoded data removed]",
      "text/plain": [
       "<Figure size 1000x500 with 10 Axes>"
      ]
     },
     "metadata": {},
     "output_type": "display_data"
    }
   ],
   "source": [
    "\n",
    "plt.figure(figsize=(10, 5))\n",
    "for i in range(10):\n",
    "    plt.subplot(2, 5, i + 1)\n",
    "    plt.imshow(X_train[:, i].reshape(28, 28), cmap='gray')\n",
    "    plt.title(f\"Label: {Y_train[i]}\")\n",
    "    plt.axis('off')\n",
    "plt.show()"
   ]
  },
  {
   "cell_type": "code",
   "execution_count": 24,
   "metadata": {
    "execution": {
     "iopub.execute_input": "2024-11-29T14:57:04.126998Z",
     "iopub.status.busy": "2024-11-29T14:57:04.126587Z",
     "iopub.status.idle": "2024-11-29T14:57:04.140232Z",
     "shell.execute_reply": "2024-11-29T14:57:04.138818Z",
     "shell.execute_reply.started": "2024-11-29T14:57:04.126961Z"
    },
    "trusted": true
   },
   "outputs": [],
   "source": [
    "\n",
    "def init_params():\n",
    "    W1 = np.random.rand(10, 784) - 0.5\n",
    "    b1 = np.random.rand(10, 1) - 0.5\n",
    "    W2 = np.random.rand(10, 10) - 0.5\n",
    "    b2 = np.random.rand(10, 1) - 0.5\n",
    "    return W1, b1, W2, b2\n",
    "\n",
    "\n",
    "def ReLU(Z):\n",
    "    return np.maximum(Z, 0)\n",
    "\n",
    "def softmax(Z):\n",
    "    exp_Z = np.exp(Z - np.max(Z, axis=0, keepdims=True))  \n",
    "    return exp_Z / np.sum(exp_Z, axis=0, keepdims=True)\n",
    "\n",
    "def forward_prop(W1, b1, W2, b2, X):\n",
    "    Z1 = W1.dot(X) + b1\n",
    "    A1 = ReLU(Z1)\n",
    "    Z2 = W2.dot(A1) + b2\n",
    "    A2 = softmax(Z2)\n",
    "    return Z1, A1, Z2, A2\n",
    "\n",
    "\n",
    "def ReLU_deriv(Z):\n",
    "    return Z > 0\n",
    "\n",
    "def one_hot(Y):\n",
    "    one_hot_Y = np.zeros((Y.size, Y.max() + 1))\n",
    "    one_hot_Y[np.arange(Y.size), Y] = 1\n",
    "    return one_hot_Y.T\n",
    "\n",
    "def backward_prop(Z1, A1, Z2, A2, W1, W2, X, Y):\n",
    "    m = X.shape[1]\n",
    "    one_hot_Y = one_hot(Y)\n",
    "    dZ2 = A2 - one_hot_Y\n",
    "    dW2 = 1 / m * dZ2.dot(A1.T)\n",
    "    db2 = 1 / m * np.sum(dZ2, axis=1, keepdims=True)\n",
    "    dZ1 = W2.T.dot(dZ2) * ReLU_deriv(Z1)\n",
    "    dW1 = 1 / m * dZ1.dot(X.T)\n",
    "    db1 = 1 / m * np.sum(dZ1, axis=1, keepdims=True)\n",
    "    return dW1, db1, dW2, db2\n",
    "\n",
    "def update_params(W1, b1, W2, b2, dW1, db1, dW2, db2, alpha):\n",
    "    W1 -= alpha * dW1\n",
    "    b1 -= alpha * db1\n",
    "    W2 -= alpha * dW2\n",
    "    b2 -= alpha * db2\n",
    "    return W1, b1, W2, b2"
   ]
  },
  {
   "cell_type": "code",
   "execution_count": 25,
   "metadata": {
    "execution": {
     "iopub.execute_input": "2024-11-29T16:10:15.054303Z",
     "iopub.status.busy": "2024-11-29T16:10:15.053928Z",
     "iopub.status.idle": "2024-11-29T16:12:13.690428Z",
     "shell.execute_reply": "2024-11-29T16:12:13.689081Z",
     "shell.execute_reply.started": "2024-11-29T16:10:15.054273Z"
    },
    "trusted": true
   },
   "outputs": [
    {
     "name": "stdout",
     "output_type": "stream",
     "text": [
      "[7 7 7 ... 9 8 9] [6 3 9 ... 5 9 5]\n",
      "[7 7 7 ... 9 8 9] [6 3 9 ... 5 9 5]\n",
      "0.09941463414634147\n",
      "Iteration 0: Accuracy = 0.0994\n",
      "[6 3 9 ... 0 1 5] [6 3 9 ... 5 9 5]\n",
      "[6 3 9 ... 0 1 5] [6 3 9 ... 5 9 5]\n",
      "0.6912195121951219\n",
      "Iteration 100: Accuracy = 0.6912\n",
      "[6 3 9 ... 0 1 5] [6 3 9 ... 5 9 5]\n",
      "[6 3 9 ... 0 1 5] [6 3 9 ... 5 9 5]\n",
      "0.7919756097560976\n",
      "Iteration 200: Accuracy = 0.7920\n",
      "[6 3 9 ... 3 1 5] [6 3 9 ... 5 9 5]\n",
      "[6 3 9 ... 3 1 5] [6 3 9 ... 5 9 5]\n",
      "0.829170731707317\n",
      "Iteration 300: Accuracy = 0.8292\n",
      "[6 3 9 ... 3 7 5] [6 3 9 ... 5 9 5]\n",
      "[6 3 9 ... 3 7 5] [6 3 9 ... 5 9 5]\n",
      "0.8480243902439024\n",
      "Iteration 400: Accuracy = 0.8480\n",
      "[6 3 9 ... 3 7 5] [6 3 9 ... 5 9 5]\n",
      "[6 3 9 ... 3 7 5] [6 3 9 ... 5 9 5]\n",
      "0.859390243902439\n",
      "Iteration 500: Accuracy = 0.8594\n",
      "[6 3 9 ... 3 7 5] [6 3 9 ... 5 9 5]\n",
      "[6 3 9 ... 3 7 5] [6 3 9 ... 5 9 5]\n",
      "0.8672926829268293\n",
      "Iteration 600: Accuracy = 0.8673\n",
      "[6 3 9 ... 3 7 5] [6 3 9 ... 5 9 5]\n",
      "[6 3 9 ... 3 7 5] [6 3 9 ... 5 9 5]\n",
      "0.8733414634146341\n",
      "Iteration 700: Accuracy = 0.8733\n",
      "[6 3 9 ... 3 7 5] [6 3 9 ... 5 9 5]\n",
      "[6 3 9 ... 3 7 5] [6 3 9 ... 5 9 5]\n",
      "0.8783658536585366\n",
      "Iteration 800: Accuracy = 0.8784\n",
      "[6 3 9 ... 3 7 5] [6 3 9 ... 5 9 5]\n",
      "[6 3 9 ... 3 7 5] [6 3 9 ... 5 9 5]\n",
      "0.882219512195122\n",
      "Iteration 900: Accuracy = 0.8822\n"
     ]
    },
    {
     "data": {
      "image/png": "[encoded data removed]",
      "text/plain": [
       "<Figure size 1000x600 with 1 Axes>"
      ]
     },
     "metadata": {},
     "output_type": "display_data"
    }
   ],
   "source": [
    "\n",
    "def get_predictions(A2):\n",
    "    return np.argmax(A2, axis=0)\n",
    "pre=[]\n",
    "Y_r=[]\n",
    "def get_accuracy(predictions, Y):\n",
    "    pre=predictions\n",
    "    Y_r=Y\n",
    "    print(predictions, Y)\n",
    "    return np.sum(predictions == Y) / Y.size\n",
    "\n",
    "\n",
    "def gradient_descent_with_plot(X, Y, alpha, iterations):\n",
    "    W1, b1, W2, b2 = init_params()\n",
    "    accuracies = [] \n",
    "    iterations_list = []  \n",
    "\n",
    "    for i in range(iterations):\n",
    "        Z1, A1, Z2, A2 = forward_prop(W1, b1, W2, b2, X)\n",
    "        dW1, db1, dW2, db2 = backward_prop(Z1, A1, Z2, A2, W1, W2, X, Y)\n",
    "        W1, b1, W2, b2 = update_params(W1, b1, W2, b2, dW1, db1, dW2, db2, alpha)\n",
    "        \n",
    "        if i % 100 == 0:  \n",
    "            predictions = get_predictions(A2)\n",
    "            accuracy = get_accuracy(predictions, Y)\n",
    "            print(get_accuracy(predictions, Y))\n",
    "            accuracies.append(accuracy)\n",
    "            iterations_list.append(i)\n",
    "            print(f\"Iteration {i}: Accuracy = {accuracy:.4f}\")\n",
    "    \n",
    "    return W1, b1, W2, b2, accuracies, iterations_list\n",
    "\n",
    "W1, b1, W2, b2, accuracies, iterations_list = gradient_descent_with_plot(\n",
    "    X_train, Y_train, alpha=0.10, iterations=1000\n",
    ")\n",
    "\n",
    "plt.figure(figsize=(10, 6))\n",
    "plt.plot(iterations_list, accuracies, marker='o', linestyle='-', color='b', label='Training Accuracy')\n",
    "plt.title(\"Training Accuracy Over Iterations\")\n",
    "plt.xlabel(\"Iterations\")\n",
    "plt.ylabel(\"Accuracy\")\n",
    "plt.grid(True)\n",
    "plt.legend()\n",
    "plt.show()\n"
   ]
  },
  {
   "cell_type": "code",
   "execution_count": 19,
   "metadata": {
    "execution": {
     "iopub.execute_input": "2024-11-29T15:34:38.679821Z",
     "iopub.status.busy": "2024-11-29T15:34:38.679432Z",
     "iopub.status.idle": "2024-11-29T15:34:38.685148Z",
     "shell.execute_reply": "2024-11-29T15:34:38.683692Z",
     "shell.execute_reply.started": "2024-11-29T15:34:38.679786Z"
    },
    "trusted": true
   },
   "outputs": [],
   "source": [
    "# Train the model\n",
    "#W1, b1, W2, b2 = gradient_descent(X_train, Y_train, alpha=0.10, iterations=1000)"
   ]
  },
  {
   "cell_type": "code",
   "execution_count": 26,
   "metadata": {
    "execution": {
     "iopub.execute_input": "2024-11-29T13:27:28.104763Z",
     "iopub.status.busy": "2024-11-29T13:27:28.103379Z",
     "iopub.status.idle": "2024-11-29T13:27:28.113383Z",
     "shell.execute_reply": "2024-11-29T13:27:28.111592Z",
     "shell.execute_reply.started": "2024-11-29T13:27:28.104700Z"
    },
    "trusted": true
   },
   "outputs": [],
   "source": [
    "def make_predictions(X, W1, b1, W2, b2):\n",
    "    \"\"\"Make predictions using the trained model.\"\"\"\n",
    "    _, _, _, A2 = forward_prop(W1, b1, W2, b2, X)\n",
    "    predictions = get_predictions(A2)\n",
    "    return predictions\n",
    "\n",
    "def test_dev_prediction(index, X_dev, Y_dev, W1, b1, W2, b2):\n",
    "    \"\"\"\n",
    "    Test a single example from the development set.\n",
    "    Visualize the image and display the model's prediction.\n",
    "    \"\"\"\n",
    "    current_image = X_dev[:, index, None]\n",
    "    prediction = make_predictions(current_image, W1, b1, W2, b2)\n",
    "    label = Y_dev[index]\n",
    "    print(\"Prediction: \", prediction[0])\n",
    "    print(\"Label: \", label)\n",
    "    \n",
    "    # Reshape and visualize the image\n",
    "    current_image = current_image.reshape((28, 28)) * 255\n",
    "    plt.gray()\n",
    "    plt.imshow(current_image, interpolation='nearest')\n",
    "    plt.show()"
   ]
  },
  {
   "cell_type": "code",
   "execution_count": 27,
   "metadata": {
    "execution": {
     "iopub.execute_input": "2024-11-29T13:27:41.092655Z",
     "iopub.status.busy": "2024-11-29T13:27:41.092231Z",
     "iopub.status.idle": "2024-11-29T13:27:41.262802Z",
     "shell.execute_reply": "2024-11-29T13:27:41.261583Z",
     "shell.execute_reply.started": "2024-11-29T13:27:41.092624Z"
    },
    "trusted": true
   },
   "outputs": [
    {
     "name": "stdout",
     "output_type": "stream",
     "text": [
      "Prediction:  9\n",
      "Label:  9\n"
     ]
    },
    {
     "data": {
      "image/png": "[encoded data removed]",
      "text/plain": [
       "<Figure size 640x480 with 1 Axes>"
      ]
     },
     "metadata": {},
     "output_type": "display_data"
    }
   ],
   "source": [
    "# Example: Test a specific index from the development set\n",
    "test_dev_prediction(0, X_dev, Y_dev, W1, b1, W2, b2)"
   ]
  },
  {
   "cell_type": "code",
   "execution_count": 28,
   "metadata": {
    "execution": {
     "iopub.execute_input": "2024-11-29T13:27:50.315162Z",
     "iopub.status.busy": "2024-11-29T13:27:50.314739Z",
     "iopub.status.idle": "2024-11-29T13:27:50.548641Z",
     "shell.execute_reply": "2024-11-29T13:27:50.547426Z",
     "shell.execute_reply.started": "2024-11-29T13:27:50.315127Z"
    },
    "trusted": true
   },
   "outputs": [
    {
     "name": "stdout",
     "output_type": "stream",
     "text": [
      "Prediction:  1\n",
      "Label:  1\n"
     ]
    },
    {
     "data": {
      "image/png": "[encoded data removed]",
      "text/plain": [
       "<Figure size 640x480 with 1 Axes>"
      ]
     },
     "metadata": {},
     "output_type": "display_data"
    }
   ],
   "source": [
    "# Example: Test a specific index from the development set\n",
    "test_dev_prediction(21, X_dev, Y_dev, W1, b1, W2, b2)"
   ]
  },
  {
   "cell_type": "code",
   "execution_count": 41,
   "metadata": {},
   "outputs": [
    {
     "name": "stdout",
     "output_type": "stream",
     "text": [
      "Prediction:  0\n",
      "Label:  2\n"
     ]
    },
    {
     "data": {
      "image/png": "[encoded data removed]",
      "text/plain": [
       "<Figure size 640x480 with 1 Axes>"
      ]
     },
     "metadata": {},
     "output_type": "display_data"
    }
   ],
   "source": [
    "# Example: Test a specific index from the development set\n",
    "test_dev_prediction(42, X_dev, Y_dev, W1, b1, W2, b2)"
   ]
  },
  {
   "cell_type": "code",
   "execution_count": 29,
   "metadata": {
    "execution": {
     "iopub.execute_input": "2024-11-29T15:33:59.433894Z",
     "iopub.status.busy": "2024-11-29T15:33:59.433445Z",
     "iopub.status.idle": "2024-11-29T15:33:59.681117Z",
     "shell.execute_reply": "2024-11-29T15:33:59.679837Z",
     "shell.execute_reply.started": "2024-11-29T15:33:59.433853Z"
    },
    "trusted": true
   },
   "outputs": [
    {
     "name": "stdout",
     "output_type": "stream",
     "text": [
      "[9 3 4 2 5 1 7 5 2 0 7 2 6 4 1 5 1 1 0 3 9 1 0 9 9 6 5 1 6 0 1 3 9 6 0 7 8\n",
      " 0 7 9 2 1 0 9 9 0 7 6 4 1 5 0 8 0 8 7 0 4 5 2 3 4 0 0 2 6 0 7 1 3 4 4 0 9\n",
      " 7 0 6 6 7 8 2 1 6 2 4 4 5 7 4 1 1 4 6 1 8 0 2 6 5 0 9 9 0 2 3 5 0 0 3 7 6\n",
      " 9 4 7 3 5 0 6 6 0 2 2 0 1 4 2 5 6 2 9 4 5 4 6 5 7 4 7 7 7 5 9 1 1 0 5 7 5\n",
      " 1 7 1 7 1 4 9 3 7 4 9 7 0 2 4 0 3 7 6 9 1 4 0 0 8 0 8 9 5 8 6 4 7 4 1 2 9\n",
      " 7 8 8 7 9 0 1 6 7 5 3 2 4 8 0 6 0 1 1 7 1 0 8 5 9 5 9 3 1 1 9 2 9 3 9 0 9\n",
      " 4 7 3 1 0 6 3 4 1 9 5 4 8 7 3 9 1 1 5 0 8 9 0 3 8 1 9 8 0 1 2 3 6 8 9 4 0\n",
      " 2 8 2 1 3 8 2 5 1 4 1 2 1 2 7 1 3 6 2 3 7 9 8 4 4 2 2 3 6 3 1 7 7 4 9 0 6\n",
      " 1 2 8 0 8 2 1 4 0 1 7 0 2 5 9 1 0 2 0 2 2 7 9 2 6 5 6 5 6 2 8 6 7 5 2 7 1\n",
      " 0 4 3 4 8 6 5 0 3 4 7 6 9 3 8 6 8 8 5 7 9 5 7 4 5 4 4 9 7 6 1 3 0 2 5 9 7\n",
      " 5 7 7 2 8 3 2 3 7 9 5 3 9 9 0 1 1 9 0 6 1 4 8 9 5 2 5 5 6 0 8 3 7 6 2 6 3\n",
      " 3 2 1 3 8 8 9 1 5 2 3 7 1 7 0 2 5 9 4 4 7 5 0 3 4 4 0 5 7 5 2 7 1 7 6 7 9\n",
      " 7 3 9 4 9 1 1 7 1 7 6 2 4 8 0 7 7 1 4 4 5 7 4 8 1 3 7 0 8 7 3 8 5 1 1 5 3\n",
      " 7 1 7 1 2 8 9 4 0 1 6 0 6 7 2 6 8 3 2 8 8 0 8 4 8 5 6 4 2 9 1 0 8 8 5 3 9\n",
      " 5 7 8 7 6 0 2 8 9 8 2 7 8 2 8 1 1 1 7 2 2 0 7 1 6 4 8 2 5 5 1 1 0 4 6 7 7\n",
      " 9 7 5 0 9 5 1 3 6 0 3 0 8 0 2 7 8 6 1 6 9 8 6 1 7 7 8 6 4 4 6 1 7 2 5 8 7\n",
      " 3 4 9 0 6 1 6 7 2 4 3 7 5 4 5 8 2 4 8 3 5 4 1 6 0 1 0 7 6 6 5 9 3 0 7 7 2\n",
      " 8 2 3 9 1 2 2 1 0 3 8 1 9 1 1 0 3 4 3 4 3 4 9 1 7 2 2 4 3 0 7 1 1 8 3 1 7\n",
      " 5 3 6 5 3 4 1 2 2 9 5 5 0 2 2 4 1 2 6 1 2 0 3 7 1 2 7 7 8 4 4 5 8 5 4 5 9\n",
      " 6 1 6 4 9 5 8 9 7 7 2 7 8 7 6 1 8 1 9 4 1 9 7 8 7 7 6 6 1 8 5 7 6 7 4 2 7\n",
      " 8 3 9 7 1 8 7 2 2 2 5 3 4 4 9 3 2 1 8 0 5 8 4 2 4 7 5 0 7 3 9 8 1 4 2 4 2\n",
      " 6 1 3 2 9 7 8 1 9 4 5 0 6 6 5 8 7 1 5 0 9 3 8 7 1 6 3 4 2 8 6 6 4 3 2 1 0\n",
      " 9 8 7 0 5 6 2 0 2 6 8 4 2 2 1 3 6 2 7 7 9 0 8 1 4 7 7 9 7 0 4 9 3 1 7 0 4\n",
      " 7 2 3 2 8 8 8 9 9 7 1 5 0 2 0 2 0 4 4 1 4 9 0 0 8 8 3 4 3 9 6 7 5 8 5 1 9\n",
      " 6 9 9 6 8 3 1 0 2 0 0 4 7 0 3 1 8 6 2 8 0 6 6 8 1 7 3 3 7 1 9 6 7 0 5 9 7\n",
      " 5 9 0 1 9 3 1 4 4 0 5 6 2 1 4 4 3 5 0 1 3 8 2 4 5 5 1 8 7 8 4 2 1 2 8 4 7\n",
      " 7 4 3 5 2 4 5 2 7 2 7 5 9 8 0 8 8 2 0 6 7 7 3 1 1 2 7 2 8 1 2 2 2 4 9 3 7\n",
      " 3] [9 2 4 2 5 1 2 0 2 0 7 2 6 4 1 5 1 1 0 3 9 1 0 9 3 6 5 2 5 0 1 3 9 3 0 7 8\n",
      " 0 7 9 2 1 2 4 6 0 7 6 4 1 3 2 8 0 8 7 0 4 5 2 3 6 0 0 2 6 0 3 5 3 4 6 0 9\n",
      " 7 0 6 6 7 8 2 4 4 7 4 4 5 7 4 1 1 4 6 1 8 0 2 6 5 0 9 9 0 2 3 5 0 0 2 7 6\n",
      " 8 4 7 3 5 0 6 6 0 2 2 8 1 4 2 5 4 2 9 4 5 4 6 5 7 4 7 7 7 5 9 1 1 0 5 7 5\n",
      " 1 9 1 7 1 4 9 5 7 4 7 7 0 2 4 0 3 7 6 9 1 4 0 0 8 0 8 9 5 8 6 4 7 9 1 2 9\n",
      " 7 8 8 2 9 0 1 6 7 5 5 2 4 8 0 6 0 1 1 7 1 0 8 5 8 5 9 2 1 1 4 2 9 3 8 0 9\n",
      " 4 7 3 1 5 6 3 4 1 8 5 4 8 7 3 7 3 1 5 0 9 9 0 2 8 1 9 8 0 1 2 3 4 8 9 4 0\n",
      " 2 8 2 1 3 8 2 3 7 4 1 2 2 2 7 1 3 6 2 3 7 4 5 4 4 3 2 3 6 3 1 7 7 4 9 6 6\n",
      " 1 2 8 0 8 2 1 4 0 1 3 0 2 5 9 1 0 2 0 2 2 7 5 2 8 5 6 5 6 2 8 6 7 5 2 7 1\n",
      " 0 4 3 4 8 6 5 0 3 6 7 6 9 3 8 6 2 8 5 7 5 5 7 4 5 4 4 9 7 6 1 3 0 2 5 9 9\n",
      " 5 7 7 2 4 3 2 3 7 9 5 3 9 7 0 1 1 9 0 6 1 4 8 9 5 2 7 5 6 0 8 5 7 5 7 6 3\n",
      " 3 2 1 3 8 8 9 1 5 5 3 7 1 7 0 2 5 9 4 4 7 9 0 3 2 4 0 5 7 5 2 7 1 7 6 7 9\n",
      " 7 3 9 4 9 1 1 7 6 7 6 2 4 1 0 7 7 1 4 4 5 7 4 8 1 3 9 0 9 7 2 3 5 1 1 9 3\n",
      " 7 1 7 3 2 8 9 7 0 1 6 0 6 4 2 6 8 3 2 8 8 0 8 4 5 5 0 4 8 9 1 0 8 8 5 3 9\n",
      " 3 7 8 7 6 0 2 8 9 8 2 7 8 2 8 1 1 1 7 6 2 0 7 1 6 4 8 2 5 3 1 1 0 4 5 9 7\n",
      " 9 7 5 0 9 5 1 3 6 0 3 0 8 0 2 7 8 6 1 6 7 8 0 1 7 7 8 6 9 4 6 1 7 3 5 8 7\n",
      " 3 4 9 0 6 1 4 7 2 4 3 7 5 8 5 8 2 4 8 3 0 2 1 6 0 1 0 7 6 6 5 7 3 0 7 7 2\n",
      " 8 2 3 9 1 2 2 1 0 3 4 1 9 1 1 0 3 4 3 9 3 4 9 1 7 2 2 4 3 0 7 1 1 8 3 1 7\n",
      " 5 3 6 5 3 4 2 2 2 9 5 5 0 2 2 4 1 2 6 1 2 0 3 7 1 2 7 7 8 4 4 5 8 5 4 8 9\n",
      " 6 1 6 4 9 5 8 9 7 7 2 7 4 7 6 1 8 1 9 4 1 9 7 8 7 7 6 6 1 8 8 7 6 7 4 2 7\n",
      " 8 3 9 7 2 8 7 7 2 3 0 3 4 4 9 3 2 1 8 0 8 8 6 2 0 7 5 0 7 3 9 8 1 2 2 4 3\n",
      " 6 1 3 2 1 7 8 1 9 4 5 0 6 6 5 8 7 1 5 0 9 3 8 7 1 6 3 9 2 8 6 4 4 3 2 1 0\n",
      " 8 8 7 0 0 6 2 0 2 5 8 4 2 2 1 3 6 2 7 7 9 0 8 1 4 9 7 9 7 0 4 9 3 1 9 0 4\n",
      " 7 2 3 2 8 5 8 9 4 7 1 5 0 2 0 2 0 4 4 1 9 9 0 0 8 8 3 4 3 9 6 7 5 8 5 1 9\n",
      " 6 9 4 6 8 3 1 0 2 0 0 4 7 0 3 1 8 6 6 8 0 6 6 8 1 7 9 3 7 1 9 6 7 0 5 9 7\n",
      " 5 9 0 1 9 3 1 4 4 0 5 6 2 1 5 4 3 5 0 1 3 8 6 4 1 5 1 8 7 8 4 8 1 8 8 8 7\n",
      " 7 4 3 5 2 4 5 2 7 2 7 5 9 8 0 8 5 3 5 6 7 7 3 1 1 2 7 4 8 1 2 7 2 4 9 3 7\n",
      " 3]\n",
      "Development Set Accuracy: 0.8700\n"
     ]
    },
    {
     "data": {
      "image/png": "[encoded data removed]",
      "text/plain": [
       "<Figure size 600x400 with 1 Axes>"
      ]
     },
     "metadata": {},
     "output_type": "display_data"
    }
   ],
   "source": [
    "# Evaluate accuracy on the development set\n",
    "dev_predictions = make_predictions(X_dev, W1, b1, W2, b2)\n",
    "dev_accuracy = get_accuracy(dev_predictions, Y_dev)\n",
    "print(f\"Development Set Accuracy: {dev_accuracy:.4f}\")\n",
    "\n",
    "# Plot bar graph for development set accuracy\n",
    "plt.figure(figsize=(6, 4))\n",
    "plt.bar(['Development Set'], [dev_accuracy], color='orange', width=0.4)\n",
    "plt.ylim(0, 1)  # Accuracy ranges from 0 to 1\n",
    "plt.title(\"Development Set Accuracy\")\n",
    "plt.ylabel(\"Accuracy\")\n",
    "plt.grid(axis='y', linestyle='--', alpha=0.7)\n",
    "plt.show()\n"
   ]
  },
  {
   "cell_type": "code",
   "execution_count": 20,
   "metadata": {
    "execution": {
     "iopub.execute_input": "2024-11-29T15:36:03.509215Z",
     "iopub.status.busy": "2024-11-29T15:36:03.508749Z",
     "iopub.status.idle": "2024-11-29T15:36:03.519815Z",
     "shell.execute_reply": "2024-11-29T15:36:03.518285Z",
     "shell.execute_reply.started": "2024-11-29T15:36:03.509175Z"
    },
    "trusted": true
   },
   "outputs": [
    {
     "data": {
      "text/plain": [
       "'\\nimport numpy as np\\nimport pandas as pd\\nfrom matplotlib import pyplot as plt\\n\\n# Load the data\\ndata = pd.read_csv(\\'/kaggle/input/digit-recognizer/train.csv\\')\\n\\n# Preprocess the data\\ndata = np.array(data)\\nm, n = data.shape\\nnp.random.shuffle(data)  # Shuffle before splitting into dev and training sets\\n\\n# Split into training and development sets\\ndata_dev = data[0:1000].T\\nY_dev = data_dev[0]\\nX_dev = data_dev[1:n] / 255.  # Normalize pixel values\\n\\ndata_train = data[1000:m].T\\nY_train = data_train[0]\\nX_train = data_train[1:n] / 255.\\n_, m_train = X_train.shape\\n\\n# Initialize parameters\\ndef init_params():\\n    W1 = np.random.rand(10, 784) - 0.5\\n    b1 = np.random.rand(10, 1) - 0.5\\n    W2 = np.random.rand(10, 10) - 0.5\\n    b2 = np.random.rand(10, 1) - 0.5\\n    return W1, b1, W2, b2\\n\\n# Activation functions\\ndef ReLU(Z):\\n    return np.maximum(Z, 0)\\n\\ndef softmax(Z):\\n    expZ = np.exp(Z - np.max(Z, axis=0, keepdims=True))\\n    return expZ / expZ.sum(axis=0, keepdims=True)\\n\\n# Forward propagation\\ndef forward_prop(W1, b1, W2, b2, X):\\n    Z1 = W1.dot(X) + b1\\n    A1 = ReLU(Z1)\\n    Z2 = W2.dot(A1) + b2\\n    A2 = softmax(Z2)\\n    return Z1, A1, Z2, A2\\n\\n# Derivatives for backpropagation\\ndef ReLU_deriv(Z):\\n    return Z > 0\\n\\ndef one_hot(Y):\\n    one_hot_Y = np.zeros((Y.size, Y.max() + 1))\\n    one_hot_Y[np.arange(Y.size), Y] = 1\\n    return one_hot_Y.T\\n\\ndef backward_prop(Z1, A1, Z2, A2, W1, W2, X, Y):\\n    one_hot_Y = one_hot(Y)\\n    dZ2 = A2 - one_hot_Y\\n    dW2 = 1 / m_train * dZ2.dot(A1.T)\\n    db2 = 1 / m_train * np.sum(dZ2, axis=1, keepdims=True)\\n    dZ1 = W2.T.dot(dZ2) * ReLU_deriv(Z1)\\n    dW1 = 1 / m_train * dZ1.dot(X.T)\\n    db1 = 1 / m_train * np.sum(dZ1, axis=1, keepdims=True)\\n    return dW1, db1, dW2, db2\\n\\n# Update parameters\\ndef update_params(W1, b1, W2, b2, dW1, db1, dW2, db2, alpha):\\n    W1 -= alpha * dW1\\n    b1 -= alpha * db1    \\n    W2 -= alpha * dW2  \\n    b2 -= alpha * db2    \\n    return W1, b1, W2, b2\\n\\n# Helper functions for predictions and accuracy\\ndef get_predictions(A2):\\n    return np.argmax(A2, axis=0)\\n\\ndef get_accuracy(predictions, Y):\\n    return np.mean(predictions == Y)\\n\\ndef make_predictions(X, W1, b1, W2, b2):\\n    _, _, _, A2 = forward_prop(W1, b1, W2, b2, X)\\n    return get_predictions(A2)\\n\\ndef test_prediction(index, X, Y, W1, b1, W2, b2):\\n    current_image = X[:, index, None]\\n    prediction = make_predictions(current_image, W1, b1, W2, b2)\\n    label = Y[index]\\n    print(\"Prediction: \", prediction[0])\\n    print(\"Label: \", label)\\n    \\n    current_image = current_image.reshape((28, 28)) * 255\\n    plt.gray()\\n    plt.imshow(current_image, interpolation=\\'nearest\\')\\n    plt.show()\\n\\n# Gradient descent with accuracy tracking\\ndef gradient_descent(X, Y, X_dev, Y_dev, alpha, iterations):\\n    W1, b1, W2, b2 = init_params()\\n    train_accuracies = []\\n    dev_accuracies = []\\n    iterations_list = []\\n\\n    for i in range(iterations):\\n        Z1, A1, Z2, A2 = forward_prop(W1, b1, W2, b2, X)\\n        dW1, db1, dW2, db2 = backward_prop(Z1, A1, Z2, A2, W1, W2, X, Y)\\n        W1, b1, W2, b2 = update_params(W1, b1, W2, b2, dW1, db1, dW2, db2, alpha)\\n        \\n        if i % 100 == 0:\\n            # Track accuracy for training and development sets\\n            train_accuracy = get_accuracy(get_predictions(A2), Y)\\n            dev_accuracy = get_accuracy(make_predictions(X_dev, W1, b1, W2, b2), Y_dev)\\n            \\n            train_accuracies.append(train_accuracy)\\n            dev_accuracies.append(dev_accuracy)\\n            iterations_list.append(i)\\n            \\n            print(f\"Iteration {i}: Training Accuracy = {train_accuracy:.4f}, Development Accuracy = {dev_accuracy:.4f}\")\\n    \\n    return W1, b1, W2, b2, train_accuracies, dev_accuracies, iterations_list\\n\\n# Train the model and track accuracies\\nW1, b1, W2, b2, train_accuracies, dev_accuracies, iterations_list = gradient_descent(\\n    X_train, Y_train, X_dev, Y_dev, alpha=0.10, iterations=1000\\n)\\n\\n# Plot training and development accuracies\\nplt.figure(figsize=(12, 6))\\nplt.plot(iterations_list, train_accuracies, label=\"Training Accuracy\", marker=\\'o\\')\\nplt.plot(iterations_list, dev_accuracies, label=\"Development Accuracy\", marker=\\'x\\')\\nplt.title(\"Accuracy Over Iterations\")\\nplt.xlabel(\"Iterations\")\\nplt.ylabel(\"Accuracy\")\\nplt.legend()\\nplt.grid(True)\\nplt.show()\\n'"
      ]
     },
     "execution_count": 20,
     "metadata": {},
     "output_type": "execute_result"
    }
   ],
   "source": [
    "\"\"\"\n",
    "import numpy as np\n",
    "import pandas as pd\n",
    "from matplotlib import pyplot as plt\n",
    "\n",
    "# Load the data\n",
    "data = pd.read_csv('/kaggle/input/digit-recognizer/train.csv')\n",
    "\n",
    "# Preprocess the data\n",
    "data = np.array(data)\n",
    "m, n = data.shape\n",
    "np.random.shuffle(data)  # Shuffle before splitting into dev and training sets\n",
    "\n",
    "# Split into training and development sets\n",
    "data_dev = data[0:1000].T\n",
    "Y_dev = data_dev[0]\n",
    "X_dev = data_dev[1:n] / 255.  # Normalize pixel values\n",
    "\n",
    "data_train = data[1000:m].T\n",
    "Y_train = data_train[0]\n",
    "X_train = data_train[1:n] / 255.\n",
    "_, m_train = X_train.shape\n",
    "\n",
    "# Initialize parameters\n",
    "def init_params():\n",
    "    W1 = np.random.rand(10, 784) - 0.5\n",
    "    b1 = np.random.rand(10, 1) - 0.5\n",
    "    W2 = np.random.rand(10, 10) - 0.5\n",
    "    b2 = np.random.rand(10, 1) - 0.5\n",
    "    return W1, b1, W2, b2\n",
    "\n",
    "# Activation functions\n",
    "def ReLU(Z):\n",
    "    return np.maximum(Z, 0)\n",
    "\n",
    "def softmax(Z):\n",
    "    expZ = np.exp(Z - np.max(Z, axis=0, keepdims=True))\n",
    "    return expZ / expZ.sum(axis=0, keepdims=True)\n",
    "\n",
    "# Forward propagation\n",
    "def forward_prop(W1, b1, W2, b2, X):\n",
    "    Z1 = W1.dot(X) + b1\n",
    "    A1 = ReLU(Z1)\n",
    "    Z2 = W2.dot(A1) + b2\n",
    "    A2 = softmax(Z2)\n",
    "    return Z1, A1, Z2, A2\n",
    "\n",
    "# Derivatives for backpropagation\n",
    "def ReLU_deriv(Z):\n",
    "    return Z > 0\n",
    "\n",
    "def one_hot(Y):\n",
    "    one_hot_Y = np.zeros((Y.size, Y.max() + 1))\n",
    "    one_hot_Y[np.arange(Y.size), Y] = 1\n",
    "    return one_hot_Y.T\n",
    "\n",
    "def backward_prop(Z1, A1, Z2, A2, W1, W2, X, Y):\n",
    "    one_hot_Y = one_hot(Y)\n",
    "    dZ2 = A2 - one_hot_Y\n",
    "    dW2 = 1 / m_train * dZ2.dot(A1.T)\n",
    "    db2 = 1 / m_train * np.sum(dZ2, axis=1, keepdims=True)\n",
    "    dZ1 = W2.T.dot(dZ2) * ReLU_deriv(Z1)\n",
    "    dW1 = 1 / m_train * dZ1.dot(X.T)\n",
    "    db1 = 1 / m_train * np.sum(dZ1, axis=1, keepdims=True)\n",
    "    return dW1, db1, dW2, db2\n",
    "\n",
    "# Update parameters\n",
    "def update_params(W1, b1, W2, b2, dW1, db1, dW2, db2, alpha):\n",
    "    W1 -= alpha * dW1\n",
    "    b1 -= alpha * db1    \n",
    "    W2 -= alpha * dW2  \n",
    "    b2 -= alpha * db2    \n",
    "    return W1, b1, W2, b2\n",
    "\n",
    "# Helper functions for predictions and accuracy\n",
    "def get_predictions(A2):\n",
    "    return np.argmax(A2, axis=0)\n",
    "\n",
    "def get_accuracy(predictions, Y):\n",
    "    return np.mean(predictions == Y)\n",
    "\n",
    "def make_predictions(X, W1, b1, W2, b2):\n",
    "    _, _, _, A2 = forward_prop(W1, b1, W2, b2, X)\n",
    "    return get_predictions(A2)\n",
    "\n",
    "def test_prediction(index, X, Y, W1, b1, W2, b2):\n",
    "    current_image = X[:, index, None]\n",
    "    prediction = make_predictions(current_image, W1, b1, W2, b2)\n",
    "    label = Y[index]\n",
    "    print(\"Prediction: \", prediction[0])\n",
    "    print(\"Label: \", label)\n",
    "    \n",
    "    current_image = current_image.reshape((28, 28)) * 255\n",
    "    plt.gray()\n",
    "    plt.imshow(current_image, interpolation='nearest')\n",
    "    plt.show()\n",
    "\n",
    "# Gradient descent with accuracy tracking\n",
    "def gradient_descent(X, Y, X_dev, Y_dev, alpha, iterations):\n",
    "    W1, b1, W2, b2 = init_params()\n",
    "    train_accuracies = []\n",
    "    dev_accuracies = []\n",
    "    iterations_list = []\n",
    "\n",
    "    for i in range(iterations):\n",
    "        Z1, A1, Z2, A2 = forward_prop(W1, b1, W2, b2, X)\n",
    "        dW1, db1, dW2, db2 = backward_prop(Z1, A1, Z2, A2, W1, W2, X, Y)\n",
    "        W1, b1, W2, b2 = update_params(W1, b1, W2, b2, dW1, db1, dW2, db2, alpha)\n",
    "        \n",
    "        if i % 100 == 0:\n",
    "            # Track accuracy for training and development sets\n",
    "            train_accuracy = get_accuracy(get_predictions(A2), Y)\n",
    "            dev_accuracy = get_accuracy(make_predictions(X_dev, W1, b1, W2, b2), Y_dev)\n",
    "            \n",
    "            train_accuracies.append(train_accuracy)\n",
    "            dev_accuracies.append(dev_accuracy)\n",
    "            iterations_list.append(i)\n",
    "            \n",
    "            print(f\"Iteration {i}: Training Accuracy = {train_accuracy:.4f}, Development Accuracy = {dev_accuracy:.4f}\")\n",
    "    \n",
    "    return W1, b1, W2, b2, train_accuracies, dev_accuracies, iterations_list\n",
    "\n",
    "# Train the model and track accuracies\n",
    "W1, b1, W2, b2, train_accuracies, dev_accuracies, iterations_list = gradient_descent(\n",
    "    X_train, Y_train, X_dev, Y_dev, alpha=0.10, iterations=1000\n",
    ")\n",
    "\n",
    "# Plot training and development accuracies\n",
    "plt.figure(figsize=(12, 6))\n",
    "plt.plot(iterations_list, train_accuracies, label=\"Training Accuracy\", marker='o')\n",
    "plt.plot(iterations_list, dev_accuracies, label=\"Development Accuracy\", marker='x')\n",
    "plt.title(\"Accuracy Over Iterations\")\n",
    "plt.xlabel(\"Iterations\")\n",
    "plt.ylabel(\"Accuracy\")\n",
    "plt.legend()\n",
    "plt.grid(True)\n",
    "plt.show()\n",
    "\"\"\""
   ]
  }
 ],
 "metadata": {
  "kaggle": {
   "accelerator": "none",
   "dataSources": [
    {
     "databundleVersionId": 861823,
     "sourceId": 3004,
     "sourceType": "competition"
    }
   ],
   "dockerImageVersionId": 30786,
   "isGpuEnabled": false,
   "isInternetEnabled": false,
   "language": "python",
   "sourceType": "notebook"
  },
  "kernelspec": {
   "display_name": "Python 3",
   "language": "python",
   "name": "python3"
  },
  "language_info": {
   "codemirror_mode": {
    "name": "ipython",
    "version": 3
   },
   "file_extension": ".py",
   "mimetype": "text/x-python",
   "name": "python",
   "nbconvert_exporter": "python",
   "pygments_lexer": "ipython3",
   "version": "3.11.2"
  }
 },
 "nbformat": 4,
 "nbformat_minor": 4
}
